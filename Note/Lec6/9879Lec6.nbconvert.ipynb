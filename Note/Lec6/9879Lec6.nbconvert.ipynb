{
 "cells": [
  {
   "cell_type": "markdown",
   "id": "ef9c7943",
   "metadata": {
    "slideshow": {
     "slide_type": "slide"
    }
   },
   "source": [
    "# MTH 9879 Market Microstructure Models,    Spring 2015 \n",
    "\n",
    "## Lecture 6: Variance and covariance estimation\n",
    "\n",
    "Tai-Ho Wang    \n",
    "Department of Mathematics   \n",
    "  \n",
    "  \n",
    "<h2><img src=\"http://mfe.baruch.cuny.edu/wp-content/uploads/2014/09/BCCUNYstacked_BLK.jpg\" align = \"center\" width=160></h2>  \n",
    "\n",
    "$$\n",
    "\\newcommand{\\bea}{\\begin{eqnarray}}\n",
    "\\newcommand{\\eea}{\\end{eqnarray}}\n",
    "\\newcommand{\\supp}{\\mathrm{supp}}\n",
    "\\newcommand{\\F}{\\mathcal{F} }\n",
    "\\newcommand{\\cF}{\\mathcal{F} }\n",
    "\\newcommand{\\E}{\\mathbb{E} }\n",
    "\\newcommand{\\Eof}[1]{\\mathbb{E}\\left[ #1 \\right]}\n",
    "\\def\\Cov{{ \\mbox{Cov} }}\n",
    "\\def\\Var{{ \\mbox{Var} }}\n",
    "\\newcommand{\\1}{\\mathbf{1} }\n",
    "\\newcommand{\\p}{\\partial}\n",
    "\\newcommand{\\PP}{\\mathbb{P} }\n",
    "\\newcommand{\\Pof}[1]{\\mathbb{P}\\left[ #1 \\right]}\n",
    "\\newcommand{\\QQ}{\\mathbb{Q} }\n",
    "\\newcommand{\\R}{\\mathbb{R} }\n",
    "\\newcommand{\\DD}{\\mathbb{D} }\n",
    "\\newcommand{\\HH}{\\mathbb{H} }\n",
    "\\newcommand{\\spn}{\\mathrm{span} }\n",
    "\\newcommand{\\cov}{\\mathrm{cov} }\n",
    "\\newcommand{\\HS}{\\mathcal{L}_{\\mathrm{HS}} }\n",
    "\\newcommand{\\Hess}{\\mathrm{Hess} }\n",
    "\\newcommand{\\trace}{\\mathrm{trace} }\n",
    "\\newcommand{\\LL}{\\mathcal{L} }\n",
    "\\newcommand{\\s}{\\mathcal{S} }\n",
    "\\newcommand{\\ee}{\\mathcal{E} }\n",
    "\\newcommand{\\ff}{\\mathcal{F} }\n",
    "\\newcommand{\\hh}{\\mathcal{H} }\n",
    "\\newcommand{\\bb}{\\mathcal{B} }\n",
    "\\newcommand{\\dd}{\\mathcal{D} }\n",
    "\\newcommand{\\g}{\\mathcal{G} }\n",
    "\\newcommand{\\half}{\\frac{1}{2} }\n",
    "\\newcommand{\\T}{\\mathcal{T} }\n",
    "\\newcommand{\\bit}{\\begin{itemize}}\n",
    "\\newcommand{\\eit}{\\end{itemize}}\n",
    "\\newcommand{\\beq}{\\begin{equation}}\n",
    "\\newcommand{\\eeq}{\\end{equation}}\n",
    "\\newcommand{\\tr}{\\mbox{tr}}\n",
    "\\newcommand{\\underbar}{\\underline}\n",
    "$$\n"
   ]
  },
  {
   "cell_type": "markdown",
   "id": "81d574c0",
   "metadata": {
    "slideshow": {
     "slide_type": "slide"
    }
   },
   "source": [
    "## Outline of Lecture 6\n",
    "\n",
    "-   Uses of volatility estimates\n",
    "\n",
    "-   Market microstructure bias\n",
    "\n",
    "-   A survey of estimation and forecasting algorithms\n",
    "\n",
    "-   Experimental results\n",
    "\n"
   ]
  },
  {
   "cell_type": "markdown",
   "id": "fe316170",
   "metadata": {
    "slideshow": {
     "slide_type": "slide"
    }
   },
   "source": [
    "### Motivation\n",
    "\n",
    "-   We often need to estimate in-sample volatility. Typically we need a\n",
    "    good volatility estimate to reduce errors in estimating parameters\n",
    "    of:\n",
    "\n",
    "    -   Market impact models\n",
    "\n",
    "    -   Limit order fill models\n",
    "\n",
    "    -   Volatility forecasting models: without good in-sample volatility\n",
    "        estimates, how can we even assess the quality of volatility\n",
    "        forecasts?\n",
    "\n",
    "-   Also, it has been shown that the performance of volatility\n",
    "    forecasting models may be improved if they use better estimates of\n",
    "    realized variance.\n",
    "\n"
   ]
  },
  {
   "cell_type": "markdown",
   "id": "acbf1b69",
   "metadata": {
    "slideshow": {
     "slide_type": "slide"
    }
   },
   "source": [
    "### Uses of volatility forecasts\n",
    "\n",
    "-   Option valuation\n",
    "\n",
    "-   Risk estimation\n",
    "\n",
    "-   Order fill probability\n",
    "\n",
    "-   For the first two of these, we need to estimate the width of the\n",
    "    distribution of relatively long-timescale returns.\n",
    "\n",
    "-   For the order fill probability, we need a volatility to estimate the\n",
    "    first passage time density. Given that the underlying stochastic\n",
    "    process is not Brownian motion, there is no a priori reason why the\n",
    "    volatility numbers required for these quite different computations\n",
    "    should be the same.\n",
    "\n",
    "-   We will focus on measuring the width of the distribution of returns.\n",
    "\n"
   ]
  },
  {
   "cell_type": "markdown",
   "id": "17224058",
   "metadata": {
    "slideshow": {
     "slide_type": "slide"
    }
   },
   "source": [
    "### Choice of sampling scheme\n",
    "\n",
    "It is important to sample in transaction time rather than in business\n",
    "time or calendar time.\n",
    "\n",
    "-   In transaction time, empirically observed returns are MA(1).\n",
    "\n",
    "-   In calendar time, with varying intensity, empirically observed\n",
    "    returns are ARIMA.\n",
    "\n"
   ]
  },
  {
   "cell_type": "markdown",
   "id": "e20d8047",
   "metadata": {
    "slideshow": {
     "slide_type": "slide"
    }
   },
   "source": [
    "### TAQ data cleaning\n",
    "\n",
    "Data cleaning is critical. Here follows a recipe for TAQ cleaning due to\n",
    "[Barndorff-Nielsen et al.]<sup id=\"cite_ref-BNS\" class=\"reference\"><a href=\"#cite_note-BNS\"><span>[</span>1<span>]</span></a></sup> and implemented in the R-package RTAQ:\n",
    "\n",
    "<span>**All data**</span>\n",
    "\n",
    "- Delete entries with a timestamp outside the 9:30am–4pm window when the exchange is open.\n",
    "- Delete entries with a bid, ask or transaction price equal to zero.\n",
    "- Retain entries originating from a single exchange (NYSE in our application). Delete other entries.\n",
    "\n",
    "<span>**Quote data only**</span>\n",
    "\n",
    "- When multiple quotes have the same time stamp, we replace all these with a single entry with the median bid and median ask price.\n",
    "- Delete entries for which the spread is negative.\n",
    "- Delete entries for which the spread is more that 50 times the median spread on that day.\n",
    "- Delete entries for which the mid-quote deviated by more than 10 mean absolute deviations from a rolling centered median (excluding the observation under consideration) of 50 observations (25 observations before and 25 after).\n",
    "\n",
    "<span>**Trade data only**</span>\n",
    "\n",
    "- Delete entries with corrected trades. (Trades with a Correction Indicator, CORR $\\neq$ 0).\n",
    "- Delete entries with abnormal Sale Condition. (Trades where COND has a letter code, except for E and F). See the TAQ 3 Users Guide for additional details about sale conditions.\n",
    "- If multiple transactions have the same time stamp, use the median price.\n",
    "- Delete entries with prices that are above the ask plus the bid–ask spread. Similar for entries with prices below the bid minus the bid–ask spread.\n",
    "\n"
   ]
  },
  {
   "cell_type": "markdown",
   "id": "b9534e8b",
   "metadata": {
    "slideshow": {
     "slide_type": "slide"
    }
   },
   "source": [
    "### Realized Variance\n",
    "\n",
    "Given a set of tick data, how can we measure variance? The naïve answer\n",
    "would be to compute the statistic\n",
    "\n",
    "$$\\frac{1}{T}\\,\\sum_i^T\\,\\log \\left( \\frac{S_i}{S_{i-1}}\\right)^2$$ \n",
    "\n",
    "where the $S_i$ are\n",
    "successive prices in the dataset.\n",
    "\n",
    "-   This estimator is called the Realized Variance (RV) estimator\n",
    "\n"
   ]
  },
  {
   "cell_type": "markdown",
   "id": "4a77c176",
   "metadata": {
    "slideshow": {
     "slide_type": "slide"
    }
   },
   "source": [
    "### An exact relation\n",
    "\n",
    "-   The following relation is exact:\n",
    "    $$(p_T-p_0)^2 = \\sum_{i = 1}^T \\,r_i^2 + 2\\sum_{k = 1}^{T-1}\\,\\gamma(k)$$\n",
    "    where $r_i = p_i-p_{i-1}$ and\n",
    "    $\\gamma(k) = \\sum_{i = 1}^{T-k}r_i \\,r_{i+k}$.\n",
    "\n",
    "\n",
    "-   So if returns are serially uncorrelated then an unbiased and\n",
    "    efficient estimate of the daily realized variance can be obtained as\n",
    "    the sum of squared intra-day returns (RV).\n",
    "\n",
    "\n",
    "-   However, intra-day returns sampled at the highest frequency will\n",
    "    generally exhibit serial correlation thereby invalidating RV as a\n",
    "    reliable variance estimator.\n",
    "\n",
    "\n",
    "-   The estimators we discuss below are all motivated by this reasoning\n",
    "    and aim to provide improved measures of the realized variance.\n",
    "\n"
   ]
  },
  {
   "cell_type": "markdown",
   "id": "64a0b207",
   "metadata": {
    "slideshow": {
     "slide_type": "slide"
    }
   },
   "source": [
    "### Microstructure noise\n",
    "\n",
    "In the limit of very high sampling frequency, RV picks up mainly market\n",
    "microstructure noise. To see this, suppose that the observed price $Y_t$\n",
    "is given by\n",
    "\n",
    "$$Y_t =X_t +\\epsilon_t$$\n",
    "\n",
    "where $X_t$ is the value of the\n",
    "underlying (log-)price process of interest and $\\epsilon_t$ is a random\n",
    "market microstructure-related noise term. Suppose we sample the price\n",
    "series $n+1$ times (so that there are $n$ price changes) in the time\n",
    "interval $T$. Then as $n\\to\\infty$,\n",
    "\n",
    "$$[Y,Y] :=\\sum^T\\,(Y_i-Y_{i-1})^2\\sim[X,X]+2\\,n\\,Var[\\epsilon]=\\sigma^2+2\\,n\\,Var[\\epsilon]$$\n",
    "\n",
    "where $\\sigma^2$ is the (true) variance for the whole period.\n",
    "\n",
    "-   The estimated variance $[Y,Y]$ increases without limit as\n",
    "    $n \\to \\infty$."
   ]
  },
  {
   "cell_type": "markdown",
   "id": "d2029bb5",
   "metadata": {
    "slideshow": {
     "slide_type": "slide"
    }
   },
   "source": [
    "### BAC trades"
   ]
  },
  {
   "cell_type": "markdown",
   "id": "2fc7d952",
   "metadata": {},
   "source": [
    "BAC data from 04-May-2012."
   ]
  },
  {
   "cell_type": "code",
   "execution_count": 7,
   "id": "40058cbc",
   "metadata": {
    "collapsed": false
   },
   "outputs": [
    {
     "name": "stdout",
     "output_type": "stream",
     "text": [
      "The rmagic extension is already loaded. To reload it, use:\n",
      "  %reload_ext rmagic\n"
     ]
    }
   ],
   "source": [
    "%load_ext rmagic"
   ]
  },
  {
   "cell_type": "code",
   "execution_count": 8,
   "id": "11c380a0",
   "metadata": {
    "collapsed": false
   },
   "outputs": [
    {
     "data": {
      "text/plain": [
       "trying URL 'http://mfe.baruch.cuny.edu/wp-content/uploads/2015/02/tq.zip'\n",
       "Content type 'application/zip' length 695952 bytes (679 Kb)\n",
       "opened URL\n",
       "==================================================\n",
       "downloaded 679 Kb\n",
       "\n",
       "trying URL 'http://mfe.baruch.cuny.edu/wp-content/uploads/2015/03/RvEstimators.R.zip'\n",
       "Content type 'application/zip' length 2406 bytes\n",
       "opened URL\n",
       "==================================================\n",
       "downloaded 2406 bytes\n",
       "\n"
      ]
     },
     "metadata": {},
     "output_type": "display_data"
    }
   ],
   "source": [
    "%%R\n",
    "download.file(url=\"http://mfe.baruch.cuny.edu/wp-content/uploads/2015/02/tq.zip\", destfile=\"tq.zip\")\n",
    "unzip(zipfile=\"tq.zip\")\n",
    "download.file(url=\"http://mfe.baruch.cuny.edu/wp-content/uploads/2015/03/RvEstimators.R.zip\", destfile=\"RvEstimators.R.zip\")\n",
    "unzip(zipfile=\"RvEstimators.R.zip\")"
   ]
  },
  {
   "cell_type": "code",
   "execution_count": 9,
   "id": "cac6ca1d",
   "metadata": {
    "collapsed": false
   },
   "outputs": [],
   "source": [
    "%%R\n",
    "library(highfrequency)\n",
    "load(\"tq.rData\")\n",
    "source(\"RvEstimators.R\") # Code mostly due to Roel Oomen"
   ]
  },
  {
   "cell_type": "code",
   "execution_count": 10,
   "id": "8c218a6e",
   "metadata": {
    "collapsed": false,
    "slideshow": {
     "slide_type": "slide"
    }
   },
   "outputs": [
    {
     "data": {
      "image/png": "[encoded data removed]"
     },
     "metadata": {},
     "output_type": "display_data"
    }
   ],
   "source": [
    "%%R\n",
    "\n",
    "px <- tqBAC$PRICE\n",
    "p <- as.numeric(px)\n",
    "\n",
    "#----------------------------------------------------------------------------------\n",
    "# Plot time series of trades\n",
    "par(mar=c(5, 4, 1, 2) + 0.1)\n",
    "par(mfrow=c(1,2),cex=0.6)\n",
    "plot(p,col=\"red\",type=\"l\",ylab=\"Trade price\",xlab=\"Trade #\")\n",
    "plot(100:200,p[100:200],col=\"red\",type=\"l\",ylab=\"Trade price\",xlab=\"Trade #\")\n",
    "par(mfrow=c(1,1))"
   ]
  },
  {
   "cell_type": "markdown",
   "id": "de85b55a",
   "metadata": {
    "slideshow": {
     "slide_type": "slide"
    }
   },
   "source": [
    "### Autocorrelation of BAC trade price changes\n",
    "\n",
    "<span>BAC data from 04-May-2012.</span>"
   ]
  },
  {
   "cell_type": "code",
   "execution_count": 11,
   "id": "fbadd12b",
   "metadata": {
    "collapsed": false
   },
   "outputs": [
    {
     "data": {
      "image/png": "[encoded data removed]"
     },
     "metadata": {},
     "output_type": "display_data"
    }
   ],
   "source": [
    "%%R\n",
    "\n",
    "#----------------------------------------------------------------------------------\n",
    "# Plot autocorrelation function of price changes\n",
    "par(mar=c(5, 4, 4, 2) + 0.1,cex=0.8)\n",
    "dp <- diff(log(p))\n",
    "ac <- acf(dp,plot=FALSE)\n",
    "plot(ac,main=\"Autocorrelation of price changes\",col=\"red\")"
   ]
  },
  {
   "cell_type": "markdown",
   "id": "4f3a3c1e",
   "metadata": {
    "slideshow": {
     "slide_type": "slide"
    }
   },
   "source": [
    "### BAC signature plot\n",
    "\n",
    "<span>BAC data from 04-May-2012.</span>"
   ]
  },
  {
   "cell_type": "code",
   "execution_count": 12,
   "id": "23bc6486",
   "metadata": {
    "collapsed": false
   },
   "outputs": [
    {
     "data": {
      "image/png": "[encoded data removed]"
     },
     "metadata": {},
     "output_type": "display_data"
    }
   ],
   "source": [
    "%%R\n",
    "\n",
    "# Compute RV as function of sampling frequency q\n",
    "nn <- 1000\n",
    "rv <- sapply(1:nn,function(q){rCov(diff(log(p),lag=q))/q})\n",
    "\n",
    "#----------------------------------------------------------------------------------\n",
    "# Signature plot\n",
    "m <- 500\n",
    "par(mfrow=c(1,2),cex=.6,mar=c(5,4,1,2)+.1)\n",
    "plot(1:m,rv[1:m],col=\"red\",type=\"l\",ylab=\"RV estimate\",xlab=\"Sampling frequency q\")\n",
    "plot(20:m,rv[20:m],col=\"red\",type=\"l\",ylab=\"RV estimate\",xlab=\"Sampling frequency q\")\n",
    "par(mfrow=c(1,1))"
   ]
  },
  {
   "cell_type": "markdown",
   "id": "ebf15c90",
   "metadata": {
    "slideshow": {
     "slide_type": "slide"
    }
   },
   "source": [
    "### Oomen’s noise-to-signal ratio\n",
    "\n",
    "Following Oomen, we define the noise-to-signal ratio:\n",
    "\n",
    "$$\\xi=\\frac{\\mbox{Var}[\\epsilon]}{\\sigma^2}.$$ \n",
    "\n",
    "$\\xi$ may be efficiently estimated using\n",
    "\n",
    "$$Var[\\epsilon]\\sim -\\frac{1}{T}\\,\\sum^T\\,(Y_{i+1}-Y_{i})(Y_i-Y_{i-1})$$\n",
    "\n",
    "which is just the square of the half-spread in the Roll model.\n",
    "\n"
   ]
  },
  {
   "cell_type": "markdown",
   "id": "fac0b082",
   "metadata": {
    "slideshow": {
     "slide_type": "slide"
    }
   },
   "source": [
    "### The Roll model\n",
    "\n",
    "Recall that in the Roll model, with\n",
    "\n",
    "$$p_t=m_t+\\epsilon_t,$$\n",
    "\n",
    "the\n",
    "effective half-spread is given by\n",
    "\n",
    "$$c=\\sqrt{-\\gamma_1}$$ and\n",
    "$$\\sigma^2=\\gamma_0+2\\,\\gamma_1$$\n",
    "\n"
   ]
  },
  {
   "cell_type": "markdown",
   "id": "9e38bca2",
   "metadata": {
    "slideshow": {
     "slide_type": "slide"
    }
   },
   "source": [
    "### The conventional solution\n",
    "\n",
    "-   The conventional solution is to sample at most every five minutes or\n",
    "    so.\n",
    "\n",
    "    -   In our BAC dataset, there are 17,858 trades. Then there are 229\n",
    "        trades every 5 minutes.\n",
    "\n",
    "    -   We get an annualized volatility of around $33\\%$. Compare this\n",
    "        with $39\\%$ and $40\\%$ 1-month historical and implied\n",
    "        respectively on 04-May-2012.\n",
    "\n",
    "    -   Sampling only every 5 minutes corresponds to throwing out 99.6%\n",
    "        of the points!\n",
    "\n",
    "\n",
    "-   To quote Zhang, Mykland and Aït-Sahalia, “It is difficult to accept\n",
    "    that throwing away data, especially in such quantities, can be an\n",
    "    optimal solution.”\n",
    "\n",
    "\n",
    "-   From a more practical perspective, if we believe that volatility is\n",
    "    time- varying, it makes sense to try and measure it from recent data\n",
    "    over the last few minutes rather than from a whole day of trading.\n",
    "\n"
   ]
  },
  {
   "cell_type": "markdown",
   "id": "677b4947",
   "metadata": {
    "slideshow": {
     "slide_type": "slide"
    }
   },
   "source": [
    "### Subsampling\n",
    "\n",
    "-   Denote by $Y_{jk}\\,\\,(1 \\leq j \\leq k)$, the subsample of $Y$\n",
    "    obtained by sampling every $k$ ticks from the $j$th tick on.\n",
    "\n",
    "-   There are clearly $k$ such non-overlapping subsamples in the\n",
    "    dataset, the first one beginning with the first tick, the second\n",
    "    with the second tick and so on.\n",
    "\n",
    "-   Then, for each $Y_{jk}$, we have \n",
    "\n",
    "    $$[Y_{jk},Y_{jk}]\\sim\n",
    "    \\left[X_{jk},X_{jk}\\right]+2\\,n_{jk}\\,\\mbox{Var}[\\epsilon]$$\n",
    "    \n",
    "-   Now define the average subsampled realized variance\n",
    "    $$[Y,Y]_k:=\\frac{1}{k}\\,\\sum_j^k\\,[Y_{jk},Y_{jk}]$$ and suppose\n",
    "    further that the *per tick* variance $\\sigma^2$ is constant.\n",
    "\n",
    "-   Then \n",
    "\n",
    "    $$[Y,Y]_k \\sim \\bar n_k\\,k\\,\\sigma^2+2\\,\\bar n_k\\,Var[\\epsilon]$$\n",
    "    \n",
    "    where $\\bar n_k$ is the average number of ticks\n",
    "    in each subsample.\n",
    "\n",
    "-   We obtain the estimator\n",
    "\n",
    "    $$v^{Realized}_k= \\frac{[Y,Y]_k}{\\bar n_k\\,k}$$"
   ]
  },
  {
   "cell_type": "markdown",
   "id": "5c68483b",
   "metadata": {
    "slideshow": {
     "slide_type": "slide"
    }
   },
   "source": [
    "### The ZMA estimator\n",
    "\n",
    "With our earlier assumption of iid noise, we can eliminate bias for each\n",
    "$k$ by forming\n",
    "\n",
    "\\begin{eqnarray*}\n",
    "[Y,Y]_k-\\frac{\\bar n_k}{n}\\,[Y,Y] \\sim \\bar n_k\\,k\\,\\sigma^2-\\bar\n",
    "n_k\\,\\sigma^2\\end{eqnarray*}\n",
    "\n",
    "Thus we obtain the Zhang-Mykland-Aït-Sahalia (ZMA) bias-corrected\n",
    "estimator of $\\sigma^2$:\n",
    "\n",
    "$$v^{ZMA}_k:=\\frac{1}{\\bar n_k\\,(k-1)} \\, \\left\\{[Y,Y]_k-\\frac{\\bar\n",
    "n_k}{n}[Y,Y]\\right\\}$$\n",
    "\n"
   ]
  },
  {
   "cell_type": "markdown",
   "id": "9a7640a6",
   "metadata": {
    "slideshow": {
     "slide_type": "slide"
    }
   },
   "source": [
    "### The Zhou estimator\n",
    "\n",
    "Define\n",
    "\n",
    "\\begin{eqnarray*}\n",
    "[Y,Y]^Z: = \\sum_i^T\\,(Y_i-Y_{i-1})^2\n",
    "+ \\sum_i^T\\,(Y_i-Y_{i-1})(Y_{i-1}-Y_{i-2}) \n",
    "+ \\sum_i^T\\,(Y_i-Y_{i-1})(Y_{i+1}-Y_{i})\n",
    "\\end{eqnarray*}\n",
    "\n",
    "It’s easy to check that under the assumption of serially uncorrelated\n",
    "noise independent of returns,\n",
    "\n",
    "$$\\mathbb{E}\\left[[Y,Y]^Z\\right]=\\langle X\\rangle_T$$\n",
    "\n",
    "It follows that\n",
    "\n",
    "$$[Y_{jk},Y_{jk}]^Z \\sim (n_{jk}-2)\\,\\sigma^2$$\n",
    "\n"
   ]
  },
  {
   "cell_type": "markdown",
   "id": "e590c187",
   "metadata": {
    "slideshow": {
     "slide_type": "slide"
    }
   },
   "source": [
    "### Subsampled Zhou estimator\n",
    "\n",
    "As suggested by Zhou himself, we may compute his estimator from\n",
    "subsamples of the data obtaining\n",
    "\n",
    "$$v^{Zhou}_k:=\\frac{1}{\\bar n_k-2}\\,[Y,Y]^Z_k$$\n",
    "\n"
   ]
  },
  {
   "cell_type": "markdown",
   "id": "bd9620d8",
   "metadata": {
    "slideshow": {
     "slide_type": "slide"
    }
   },
   "source": [
    "### Notation\n",
    "\n",
    "-   Given an observed price series $\\{p_i\\}_{i=0}^T$, let\n",
    "\n",
    "    <a name=\"Eqn:gamma\"></a>(1)\n",
    "    $$\\gamma_{h,q}(k) = \\sum_{i=1}^{m} (p_{iq+h}-p_{(i-1)q+h})(p_{(i+k)q+h}-p_{(i-1+k)q+h}),$$\n",
    "\n",
    "    where $m = \\lfloor (T-h+1)/q\\rfloor-k$.\n",
    "\n",
    "    -   Thus $q$ is the sub-sampling frequency, $h$ is the index of a\n",
    "        given subsample and $k$ is a time-offset.\n",
    "\n",
    "-   Many of the realized variance measures are derived in a setting\n",
    "    where observed prices are modeled as $p_{t_i} = \\int_0^{t_i}\n",
    "    \\sigma_u\\,dW_u+\\omega\\,\\varepsilon_{t_i}$ with $W\\perp \\varepsilon$.\n",
    "\n",
    "    -   Their implementation typically requires measurements of the\n",
    "        latent integrated variance $IV=\\int_0^1\\sigma_u^2du$, integrated\n",
    "        quarticity $IQ=\\int_0^1\\sigma_u^4du$, and noise variance\n",
    "        $\\omega^2$.\n",
    "\n"
   ]
  },
  {
   "cell_type": "markdown",
   "id": "8807be34",
   "metadata": {
    "slideshow": {
     "slide_type": "slide"
    }
   },
   "source": [
    "### Mean-squared error\n",
    "\n",
    "-   Mean-squared error (MSE) of an estimator $\\theta$ of some quantity\n",
    "    $\\theta$ is defined by:\n",
    "    \n",
    "    $$\\text{MSE}[\\hat \\theta]=\\mathbb{E} [(\\hat \\theta- \\theta)^2]$$\n",
    "\n",
    "\n",
    "-   Bias is given by $\\mathbb{E} [\\hat \\theta -\\theta]$.\n",
    "\n",
    "\n",
    "-   Variance of the estimator is given by\n",
    "\n",
    "    $$\\mathbb{E} [(\\hat \\theta-\\mathbb{E} [\\hat \\theta])^2]$$\n",
    "\n",
    "\n",
    "-   Then\n",
    "\n",
    "    \\begin{eqnarray*}\n",
    "    \\text{MSE}&=&\\mathbb{E} [(\\hat \\theta- \\mathbb{E} [\\hat \\theta]+\\mathbb{E} [\\hat \\theta]-\\theta)^2]\\\\\n",
    "    &=&\\mathbb{E} [(\\hat \\theta- \\mathbb{E} [\\hat \\theta])^2]+(\\mathbb{E} [\\hat \\theta-\\theta])^2\\\\\n",
    "    &=&\\text{Variance}+\\text{Bias}^2\\end{eqnarray*}\n",
    "\n"
   ]
  },
  {
   "cell_type": "markdown",
   "id": "67235e32",
   "metadata": {
    "slideshow": {
     "slide_type": "slide"
    }
   },
   "source": [
    "### Estimator consistency and efficiency\n",
    "\n",
    "-   An estimator $\\hat \\theta$ is <span>*consistent*</span> if it\n",
    "    converges in probability to the true value $\\theta$.\n",
    "\n",
    "-   Estimator $A$ is more <span>*efficient*</span> than estimator B if\n",
    "    $\\mathbb{E} [(A-\\theta)^2]<\\mathbb{E} [(B-\\theta)^2]$.\n",
    "\n",
    "-   An <span>*efficient*</span> estimator is the most efficient one.\n",
    "\n",
    "\n",
    "-   An article in econometrics describing a new estimator typically\n",
    "    proves that this new estimator is asymptotically consistent and\n",
    "    efficient in the limit that the number of samples $n \\to \\infty$.\n",
    "\n"
   ]
  },
  {
   "cell_type": "markdown",
   "id": "7be6880c",
   "metadata": {
    "slideshow": {
     "slide_type": "slide"
    }
   },
   "source": [
    "### Optimal sampling frequency\n",
    "\n",
    "-   The optimal sampling frequency is such that MSE is minimized.\n",
    "\n",
    "    -   As sampling frequency increases, the variance of the estimate of\n",
    "        realized variance decreases but its bias typically increases.\n",
    "\n",
    "    -   This optimal sampling frequency may been computed theoretically\n",
    "        for various estimators of realized variance under idealized\n",
    "        assumptions.\n",
    "\n",
    "-   Analogously, for the estimators that we now describe, there is\n",
    "    typically a parameter (such as the subsampling frequency $q$) that\n",
    "    theoretically minimizes MSE under given assumptions for the\n",
    "    underlying and noise processes.\n",
    "\n"
   ]
  },
  {
   "cell_type": "markdown",
   "id": "a68b16d2",
   "metadata": {
    "slideshow": {
     "slide_type": "slide"
    }
   },
   "source": [
    "### Zhou and ZMA estimators in updated notation\n",
    "\n",
    "With our updated notation:\n",
    "\n",
    "-   The Zhou estimator becomes\n",
    "\n",
    "    <a name=\"Eqn:ZHOU\"></a>(2)\n",
    "    $$ZHOU = \\frac{T}{T-q+1}\\frac{1}{q}\\sum_{h = 0}^{q-1} (\\gamma_{h,q}(0)+2\\gamma_{h,q}(1)),$$\n",
    "\n",
    "-   The ZMA (or two-scale RV) estimator becomes:\n",
    "\n",
    "    <a name=\"Eqn:TSRV\"></a>(3)\n",
    "    $$TSRV=\\left( 1-\\overline{T}/T\\right) ^{-1}\\left( \\frac{1}{q}\\sum_{h = 0}^{q-1}\\gamma\n",
    "    _{h,q}(0)-\\frac{\\overline{T}}{T}\\gamma_{0,1}(0)\\right),$$\n",
    "\n",
    "    where $\\overline{T} =(T-q+1)/q$\n",
    "\n"
   ]
  },
  {
   "cell_type": "markdown",
   "id": "34fef691",
   "metadata": {
    "slideshow": {
     "slide_type": "slide"
    }
   },
   "source": [
    "### Multiscale RV\n",
    "\n",
    "Zhang’s multiscale RV estimator is given by\n",
    "\n",
    "<a name=\"Eqn:MSRV\"></a>(4)\n",
    "$$MSRV = \\sum_{j = 1}^{q} \\frac{a_j}{j} \\sum_{h = 0}^{j-1}\\gamma_{h,j}(0),$$\n",
    "\n",
    "where\n",
    "\n",
    "$$a_j^\\ast = (1-1/q^2)^{-1}\\left(\\frac{j}{q^2}h(j/q)-\\frac{j}{2q^3}h^\\prime(j/q)\\right)$$\n",
    "\n",
    "and $$h(x) =12\\,(x-1/2).$$\n",
    "\n"
   ]
  },
  {
   "cell_type": "markdown",
   "id": "fbf74076",
   "metadata": {
    "slideshow": {
     "slide_type": "slide"
    }
   },
   "source": [
    "### Realized Kernel estimator of Barndorff-Nielsen, Hansen, Lunde and Shephard\n",
    "\n",
    "<a name=\"Eqn:KRV\"></a>(5)\n",
    "$$KRV = \\gamma_{0,1}(0)+2\\sum_{s = 1}^q \\kappa\\left(\\frac{s-1}{q}\\right)\\gamma_{0,1}(s).$$\n",
    "\n",
    "Choices for the kernel $\\kappa(x)$ include:\n",
    "\n",
    "-   Modified Tukey-Hanning kernel TH$_{2}$: $\\kappa\\left( x\\right)\n",
    "    =\\sin ^{2}\\{\\frac{\\pi }{2}\\left( 1-x\\right) ^2\\}$.\n",
    "\n",
    "-   Cubic kernel: $\\kappa\\left( x\\right)\n",
    "    =1-3x^{2}+2x^{3}$.\n",
    "\n"
   ]
  },
  {
   "cell_type": "markdown",
   "id": "d5d725ff",
   "metadata": {
    "slideshow": {
     "slide_type": "slide"
    }
   },
   "source": [
    "### Large’s alternation estimator\n",
    "\n",
    "\n",
    "<a name=\"Eqn:ALT\"></a>(6)\n",
    "$$ALT = \\frac{C}{R}\\,\\gamma_{0,1}(0),$$\n",
    "\n",
    "where $R$ ($C$) are the number of reversals (continuations) in the\n",
    "sample.\n",
    "\n",
    "-   Note that $C =\n",
    "    \\sum_{i=2}^{T} (I^p_i I^p_{i-1}+I^n_{i-1} I^n_i)$ and\n",
    "    $R = \\sum_{i=2}^{T}( I^p_i\n",
    "    I^n_{i-1}+I^p_{i-1} I^n_i)$ where $I^p_i = I(r_i>0)$ and\n",
    "    $I^n_i = I(r_i<0)$.\n",
    "\n",
    "-   If there are zero returns in the sample then these are first\n",
    "    removed, *i.e.*, the estimator is implemented using tick\n",
    "    data.\n",
    "\n"
   ]
  },
  {
   "cell_type": "markdown",
   "id": "9cbf6852",
   "metadata": {
    "slideshow": {
     "slide_type": "slide"
    }
   },
   "source": [
    "### Large’s estimator\n",
    "\n",
    "-   Suppose that $$\\Delta p_t=p_t-p_{t-1}=\\pm k$$ for some fixed number\n",
    "    $k$. That is, the trade price jumps up and down by a constant (1\n",
    "    cent say).\n",
    "\n",
    "\n",
    "-   Recall that \n",
    "\n",
    "    $$\\gamma_{0,1}(0)=\\sum_t\\,\\Delta p_t^2=N\\,k^2$$ \n",
    "    \n",
    "    which is just $RV$. So \n",
    "    \n",
    "    $$ALT = \\frac{C}{R}\\,RV$$\n",
    "\n",
    "    -   If the efficient price is constant, then $C=0$ and $ALT=0$.\n",
    "\n",
    "    -   If there is no microstructure noise, $C=R$ for a random walk and\n",
    "        $ALT=RV$.\n",
    "\n",
    "\n",
    "-   This estimator only works for large tick markets where the price\n",
    "    moves by only one tick whenever it moves.\n",
    "\n"
   ]
  },
  {
   "cell_type": "markdown",
   "id": "f9fc6c8a",
   "metadata": {
    "slideshow": {
     "slide_type": "slide"
    }
   },
   "source": [
    "### Maximum Likelihood estimator of Aït-Sahalia, Mykland and Zhang\n",
    "\n",
    "<a name=\"Eqn:MLRV\"></a>(7)\n",
    "$$MLRV =  M\\,\\widehat{\\delta}^2\\,(1+\\widehat{\\eta})^2,$$\n",
    "\n",
    "where $(\\widehat{\\eta},\\widehat{\\delta^2})$ are the maximum likelihood\n",
    "estimates of an MA(1) model for observed returns, <span>*i.e.*</span>\n",
    "$r_i = \\varepsilon_i+\\eta \\varepsilon_{i-1}$ where the $\\varepsilon_i$’s\n",
    "are serially uncorrelated with mean zero and variance $\\delta^2$.\n",
    "\n"
   ]
  },
  {
   "cell_type": "markdown",
   "id": "99fe3bc0",
   "metadata": {
    "slideshow": {
     "slide_type": "slide"
    }
   },
   "source": [
    "### Practical implementation\n",
    "\n",
    "-   Ideally, we should be able to update a RV estimator in real time as\n",
    "    ticks come in.\n",
    "\n",
    "-   From this perspective, estimators where we can just add the most\n",
    "    recent observation and drop the oldest observation are preferred.\n",
    "\n"
   ]
  },
  {
   "cell_type": "markdown",
   "id": "77dfc67b",
   "metadata": {
    "slideshow": {
     "slide_type": "slide"
    }
   },
   "source": [
    "### Convergence of TSRV, MSRV and kernel estimators\n",
    "\n",
    "-   The TSRV two-timescale RV measure yields a consistent estimator of\n",
    "    IV that converges at rate $M^{-1/6}$.\n",
    "\n",
    "\n",
    "-   The rate of the TSRV estimator can be improved to $M^{-1/4}$ – the\n",
    "    fastest attainable in this setting – by using multiple time scales\n",
    "    as in the MSRV.\n",
    "\n",
    "\n",
    "-   The realized kernels provide an equally efficient alternative to the\n",
    "    subsampling estimators with rates of convergence of $M^{-1/6}$ or\n",
    "    $M^{-1/4}$ depending on the choice of kernel (the TH$_{2}$ and cubic\n",
    "    kernels converge at the fastest rate).\n",
    "    \n",
    "\n",
    "-   Finally, both the ALT and MLRV estimators are also consistent and\n",
    "    converge at rate $M^{-1/4}$, albeit under more restrictive (semi-)\n",
    "    parametric assumptions.\n",
    "\n",
    "\n",
    "-   An important feature of the non-parametric RV measures TSRV, MSRV,\n",
    "    and KRV is that they allow for stochastic volatility, leverage and\n",
    "    can be made robust to dependent noise.\n",
    "\n",
    "    -   ZHOU is biased with dependent noise\n",
    "\n",
    "    -   ALT rules out leverage effects and requires uncorrelated noise\n",
    "\n",
    "    -   Although MLRV can be modified to take account of dependent noise\n",
    "        it does not allow for stochastic volatility."
   ]
  },
  {
   "cell_type": "markdown",
   "id": "827c27c1",
   "metadata": {
    "slideshow": {
     "slide_type": "slide"
    }
   },
   "source": [
    "### Using the mid-quote\n",
    "\n",
    "-   What if quote data is available?\n",
    "\n",
    "\n",
    "-   According to practitioners, using mid-quotes eliminates bid-ask\n",
    "    bounce.\n",
    "\n",
    "    -   If we use mid-quotes, do we get the same volatility estimate?\n",
    "\n",
    "    -   When should we sample the mid-quotes? Every quote change? Every\n",
    "        second?\n",
    "\n",
    "\n",
    "-   According to Bouchaud, Gefen, Potters and Wyart(2004) and also Bandi \n",
    "    and Russell (2006), it's best to sample the mid-quote just before each \n",
    "    trade.\n",
    "\n",
    "\n",
    "-   Let’s see how the autocorrelation plot and noise plot look with\n",
    "    mid-quotes.\n",
    "\n"
   ]
  },
  {
   "cell_type": "markdown",
   "id": "0cb11d81",
   "metadata": {
    "slideshow": {
     "slide_type": "slide"
    }
   },
   "source": [
    "### BAC trades and quotes\n",
    "\n",
    "<span>BAC data from 04-May-2012. Mid-quotes in green, trade prices in\n",
    "red.</span>"
   ]
  },
  {
   "cell_type": "code",
   "execution_count": 13,
   "id": "f5f92465",
   "metadata": {
    "collapsed": false
   },
   "outputs": [
    {
     "data": {
      "image/png": "[encoded data removed]"
     },
     "metadata": {},
     "output_type": "display_data"
    }
   ],
   "source": [
    "%%R\n",
    "\n",
    "#----------------------------------------------------------------------------------\n",
    "# Compare trades and mid-quotes\n",
    "\n",
    "bid <- as.numeric(tqBAC$BID)\n",
    "ask <- as.numeric(tqBAC$OFR)\n",
    "mid <- (bid+ask)/2\n",
    "\n",
    "par(mfrow=c(1,2),mar=c(5,4,1,2)+.1,cex=.6)\n",
    "plot(mid,col=\"dark green\",type=\"l\",ylab=\"Price\",xlab=\"Trade #\")\n",
    "points(p,col=\"red\",type=\"p\",pch=\".\")\n",
    "plot(100:200,mid[100:200],col=\"dark green\",type=\"l\",ylab=\"Price\",xlab=\"Trade #\")\n",
    "points(100:200,p[100:200],col=\"red\",type=\"p\",pch=20)\n",
    "par(mfrow=c(1,1))"
   ]
  },
  {
   "cell_type": "markdown",
   "id": "f6cf467e",
   "metadata": {
    "slideshow": {
     "slide_type": "slide"
    }
   },
   "source": [
    "### Autocorrelation of BAC mid-quote changes\n",
    "\n",
    "<span>BAC data from 04-May-2012.</span>"
   ]
  },
  {
   "cell_type": "code",
   "execution_count": 14,
   "id": "bb51706f",
   "metadata": {
    "collapsed": false
   },
   "outputs": [
    {
     "data": {
      "image/png": "[encoded data removed]"
     },
     "metadata": {},
     "output_type": "display_data"
    }
   ],
   "source": [
    "%%R\n",
    "\n",
    "#----------------------------------------------------------------------------------\n",
    "# Plot autocorrelation function of mid-quote changes\n",
    "dm <- diff(log(mid))\n",
    "acm <- acf(dm,plot=F)\n",
    "plot(acm,main=\"Autocorrelation of mid-quote changes\",col=\"red\")"
   ]
  },
  {
   "cell_type": "markdown",
   "id": "4c18df13",
   "metadata": {},
   "source": [
    "-   We see higher order autocorrelations in the mid-quote data."
   ]
  },
  {
   "cell_type": "markdown",
   "id": "2efc4ac1",
   "metadata": {
    "slideshow": {
     "slide_type": "slide"
    }
   },
   "source": [
    "### BAC signature plot using mid-prices\n",
    "\n",
    "<span>BAC data from 04-May-2012.</span>"
   ]
  },
  {
   "cell_type": "code",
   "execution_count": 15,
   "id": "30cb5e49",
   "metadata": {
    "collapsed": false
   },
   "outputs": [
    {
     "data": {
      "image/png": "[encoded data removed]"
     },
     "metadata": {},
     "output_type": "display_data"
    }
   ],
   "source": [
    "%%R\n",
    "\n",
    "# Compute RV as function of sampling frequency q\n",
    "nn <- 10000\n",
    "rvm <- sapply(1:nn,function(q){rCov(diff(log(mid),lag=q))/q})\n",
    "\n",
    "#----------------------------------------------------------------------------------\n",
    "# Signature plot with mid-prices\n",
    "par(mfrow=c(1,2),cex=.6,mar=c(5,4,1,2)+.1)\n",
    "plot(1:nn,rvm,col=\"dark green\",type=\"l\",ylab=\"RV estimate\",xlab=\"Sampling frequency q\")\n",
    "plot(1:100,rvm[1:100],col=\"dark green\",type=\"l\",ylab=\"RV estimate\",xlab=\"Sampling frequency q\")\n",
    "par(mfrow=c(1,1))"
   ]
  },
  {
   "cell_type": "markdown",
   "id": "a7a77341",
   "metadata": {
    "slideshow": {
     "slide_type": "slide"
    }
   },
   "source": [
    "### ZI simulation\n",
    "\n",
    "-   Given a set of tick data, what was the realized variance?\n",
    "\n",
    "\n",
    "-   If we don’t know what the true value was, how can we test the\n",
    "    performance of different estimators?\n",
    "\n",
    "    -   One way is to simulate from a model which could be stochastic\n",
    "        volatility or jump-diffusion for example.\n",
    "\n",
    "    -   A noise process is typically added to the efficient price\n",
    "        process.\n",
    "\n",
    "\n",
    "-   [Gatheral and Oomen]<sup id=\"cite_ref-GatheralOomen\" class=\"reference\"><a href=\"#cite_note-GatheralOomen\"><span>[</span>3<span>]</span></a></sup> generated simulations from the Smith Farmer\n",
    "    zero-intelligence (ZI) model. This has the benefit that\n",
    "    microstructure noise is in some sense much more realistically\n",
    "    modeled.\n",
    "\n",
    "\n",
    "-   We tested many different estimators and came up with a ranking.\n",
    "\n"
   ]
  },
  {
   "cell_type": "markdown",
   "id": "49bfa9c3",
   "metadata": {
    "slideshow": {
     "slide_type": "slide"
    }
   },
   "source": [
    "### Gatheral Oomen results for mid-quotes\n",
    "\n",
    "<h2><img src=\"http://mfe.baruch.cuny.edu/wp-content/uploads/2015/03/ziResults12.png\" align = \"center\" width=750></h2>"
   ]
  },
  {
   "cell_type": "markdown",
   "id": "43ecebe4",
   "metadata": {
    "slideshow": {
     "slide_type": "slide"
    }
   },
   "source": [
    "### Gatheral Oomen results for mid-quotes\n",
    "\n",
    "<h2><img src=\"http://mfe.baruch.cuny.edu/wp-content/uploads/2015/03/ziResults13.png\" align = \"center\" width=750></h2>"
   ]
  },
  {
   "cell_type": "markdown",
   "id": "9951a2ea",
   "metadata": {
    "slideshow": {
     "slide_type": "slide"
    }
   },
   "source": [
    "### Conclusion of the ZI simulation: Which estimators are best?\n",
    "\n",
    "-   Sample prices at the highest available frequency and then measure\n",
    "    realized variance using one of:\n",
    "\n",
    "    -   The Two-Scale ZMA estimator with a subsampling frequency of 5,\n",
    "\n",
    "    -   The Multi-Scale RV of Zhang with 5 subsamples,\n",
    "\n",
    "    -   The Realized Kernel of BNS with a bandwidth of 5.\n",
    "\n",
    "\n",
    "-   The performance of these estimators is largely equivalent and their\n",
    "    implementation equally straightforward, so which particular one to\n",
    "    use would be a matter of taste.\n",
    "\n",
    "\n",
    "-   Relative to the widely used sum of sparsely sampled returns\n",
    "    following the “5-minute” rule prescribed in earlier literature, the\n",
    "    efficiency gain achieved with these is likely to be substantial.\n",
    "\n"
   ]
  },
  {
   "cell_type": "markdown",
   "id": "9d4fb2f4",
   "metadata": {
    "slideshow": {
     "slide_type": "slide"
    }
   },
   "source": [
    "### Conclusion of the ZI simulation: What series to sample?\n",
    "\n",
    "-   In terms of data sampling, use mid-quotes.\n",
    "\n",
    "\n",
    "-   When sampled immediately prior to a trade, we ensure the same number\n",
    "    of observations as for the trade data but with a heavily reduced\n",
    "    level of microstructure noise.\n",
    "\n",
    "\n",
    "-   The micro price is also preferred over the trade data but, despite\n",
    "    some seemingly appealing features, does not seem to improve over\n",
    "    mid-quote data. At least in the ZI simulation, it appears that\n",
    "    micro-price had higher order autocorrelations.\n",
    "\n"
   ]
  },
  {
   "cell_type": "markdown",
   "id": "d0ad478f",
   "metadata": {
    "slideshow": {
     "slide_type": "slide"
    }
   },
   "source": [
    "### Conclusion of the ZI simulation: What bandwidth to use?\n",
    "\n",
    "-   The rule for choosing $q$ should be to let $q$ grow with the level\n",
    "    of noise so that with little noise we compute something that is\n",
    "    close to RV and with high levels of noise we effectively reduce the\n",
    "    sampling frequency so as to mitigate its impact.\n",
    "\n",
    "\n",
    "-   The optimal bandwidth $q^\\ast$ can be computed in closed-form for\n",
    "    realized kernels, TSRV and MSRV. It is of the form:\n",
    "    \n",
    "    $$q^{\\ast }=A\\,\\sqrt{\\xi}.$$\n",
    "    \n",
    "    for some estimator-dependent constant\n",
    "    $A$ where $\\xi$ is the Oomen noise-to-signal ratio.\n",
    "\n",
    "\n",
    "-   Alternatively, $q=5$ seems to work well nearly all of the time.\n",
    "\n"
   ]
  },
  {
   "cell_type": "markdown",
   "id": "f5e60dc2",
   "metadata": {
    "slideshow": {
     "slide_type": "slide"
    }
   },
   "source": [
    "### Trades vs mid-quotes\n",
    "\n",
    "-   [Barndorff-Nielsen et al.]<sup id=\"cite_ref-BNS\" class=\"reference\"><a href=\"#cite_note-BNS\"><span>[</span>1<span>]</span></a></sup> point out that one way to assess the performance of an\n",
    "    estimator on real data is to see if it gives the same result on\n",
    "    trades and quotes.\n",
    "\n",
    "    -   They find that results depend on the data-cleaning protocol\n",
    "        followed.\n",
    "\n",
    "    -   It’s better to take data from each exchange separately and\n",
    "        average the results rather than supposing that all data comes\n",
    "        from the same source.\n",
    "\n",
    "        -   This might be less true now post Reg. NMS (Regulation National Market System).\n",
    "\n",
    "    -   The realized kernel estimators do fine, giving similar results\n",
    "        for trades and quotes.\n",
    "\n",
    "    -   There are some days with lengthy strong trends which are not\n",
    "        compatible with standard models of microstructure noise.\n",
    "\n"
   ]
  },
  {
   "cell_type": "markdown",
   "id": "089fd9e8",
   "metadata": {
    "slideshow": {
     "slide_type": "slide"
    }
   },
   "source": [
    "### The Uncertainty Zone (UZ) model of Robert and Rosenbaum\n",
    "\n",
    "-   In a world with no microstructure noise but with prices quantized in\n",
    "    ticks, participants would trade when the efficient price crosses the\n",
    "    tick grid.\n",
    "\n",
    "\n",
    "-   The idea of the model of [Robert and Rosenbaum]<sup id=\"cite_ref-RobertRosenbaum\" class=\"reference\"><a href=\"#cite_note-RobertRosenbaum\"><span>[</span>6<span>]</span></a></sup> is that participants trade\n",
    "    only when the efficient price is sufficiently far from the last\n",
    "    traded price.\n",
    "\n",
    "    -   Only transactions with price changes are modeled.\n",
    "\n",
    "\n",
    "-   Thus, the model establishes a band of width $\\eta$ around each\n",
    "    mid-tick on the grid and price changes can occur only when the\n",
    "    efficient price exits this band.\n",
    "\n",
    "\n",
    "-   From [Figure 1](#fig:RobertRosenbaum), if the efficient price is\n",
    "    $X_{\\tau_i}$, it must be given by\n",
    "\n",
    "    <a name=\"eq:efficientPrice\"></a>(8)\n",
    "    $$X_{\\tau_i}=p_{t_i}-\\alpha\\,\\left(\\frac{1}{2}-\\eta\\right)\\,\\mbox{sign} (p_{t_i}-p_{t_{i-1}})$$\n",
    "\n",
    "    where the transaction time $t_i > \\tau_i$. $\\alpha$ is the tick size. \n",
    "\n"
   ]
  },
  {
   "cell_type": "markdown",
   "id": "530b2f52",
   "metadata": {
    "slideshow": {
     "slide_type": "slide"
    }
   },
   "source": [
    "### Schematic of the price process\n",
    "<a name=\"fig:RobertRosenbaum\"></a>\n",
    "\n",
    "<h2><img src=\"http://mfe.baruch.cuny.edu/wp-content/uploads/2015/03/RobertRosenbaum.png\" align = \"center\" width=550></h2>\n",
    "Figure 1: Tick grid in green; mid-prices in red; uncertainty zones in blue.  For a transaction to occur at the grid point $L_0$ at time $t_i$, the efficient price $X_t$ must breach the uncertainty zone above or below.  Conditional on observing $L_0$ at time $t_i$, the efficient price must have been $L_0 - (1/2-\\eta)\\,\\text{sign}(p_{t_{i}}-p_{t_{i-1}})$ at time $\\tau_i < t_i$."
   ]
  },
  {
   "cell_type": "markdown",
   "id": "51a71c51",
   "metadata": {
    "slideshow": {
     "slide_type": "slide"
    }
   },
   "source": [
    "### Schematic of the price process\n",
    "\n",
    "<h2><img src=\"http://mfe.baruch.cuny.edu/wp-content/uploads/2015/03/RosenbaumPlot2.png\" align = \"center\" width=600></h2>"
   ]
  },
  {
   "cell_type": "markdown",
   "id": "9d3d6c50",
   "metadata": {
    "slideshow": {
     "slide_type": "slide"
    }
   },
   "source": [
    "### Estimating $\\eta$\n",
    "\n",
    "-   If we knew $\\eta$, we could use [(8)](#eq:efficientPrice):\n",
    "\n",
    "    $$X_{\\tau_i}=p_{t_i}-\\alpha\\,\\left(\\frac{1}{2}-\\eta\\right)\\,\\mbox{sign} (p_{t_i}-p_{t_{i-1}})$$\n",
    "    \n",
    "    to impute the efficient price process and then compute integrated\n",
    "    variance as\n",
    "    \n",
    "    $${RV}= \\sum_i (X_{\\tau_i}- X_{\\tau_{i-1}})^2.$$\n",
    "\n"
   ]
  },
  {
   "cell_type": "markdown",
   "id": "93239abe",
   "metadata": {
    "slideshow": {
     "slide_type": "slide"
    }
   },
   "source": [
    "### Schematic of continuation and reversal (one tick case)\n",
    "\n",
    "<a name=\"fig:CR\"></a>\n",
    "<h2><img src=\"http://mfe.baruch.cuny.edu/wp-content/uploads/2015/03/CR.png\" align = \"center\" width=550></h2>\n",
    "Figure 2: If there is a continuation (orange), the efficient price $X$ moves by $2$.  If there is a reversal (green), the efficient price moves by $-2\\,\\eta$."
   ]
  },
  {
   "cell_type": "markdown",
   "id": "f511c6e6",
   "metadata": {
    "slideshow": {
     "slide_type": "slide"
    }
   },
   "source": [
    "### Martingale argument to estimate $\\eta$\n",
    "\n",
    "-   Assume $\\alpha = 1$. From [Figure 2](#fig:CR), if a price change is a continuation, $X$ must\n",
    "    have moved by $2$; if a reversal, $X$ must have moved by $-2\\,\\eta$.\n",
    "\n",
    "\n",
    "-   Denote the probabilities of a continuation by $C$ and of a reversal\n",
    "    by $R$. Then, because\n",
    "    \n",
    "    $$\\mathbb{E} [\\Delta X ] = C\\,2 - R\\,2\\,\\eta = 0$$\n",
    "    \n",
    "    we must have\n",
    "    \n",
    "    $$\\eta = \\frac C R.$$\n",
    "\n",
    "\n",
    "-   In the case where the price may only move by one tick, the estimator\n",
    "    $\n",
    "    \\hat \\eta = C / R \n",
    "    $ is a consistent estimator of $\\eta$.\n",
    "\n",
    "    -   We recognize this as Large’s alternation estimator.\n",
    "\n",
    "\n",
    "-   In an easy extension of the argument, if $C_k$ and $R_k$ are the\n",
    "    probabilities of continuations and reversals of size $k$, we have\n",
    "    \n",
    "    $$\\mathbb{E} [\\Delta X ] = C\\,k - R\\,(k-1+2\\,\\eta) = 0.$$\n",
    "\n"
   ]
  },
  {
   "cell_type": "markdown",
   "id": "b9e8a93b",
   "metadata": {
    "slideshow": {
     "slide_type": "slide"
    }
   },
   "source": [
    "### Estimation of $\\eta$ in general\n",
    "\n",
    "Let $\\alpha$ be the tick size, $k$ the size of a price change in ticks.\n",
    "Then \n",
    "\n",
    "$$\\hat \\eta = \\sum_{k=1}^T\\,\\lambda_k\\,u_k$$ \n",
    "\n",
    "with\n",
    "\n",
    "$$\\lambda_k=\\frac{C_k+R_k}{\\sum_{j=1}^m(C_j+R_j)};\\quad u_k=\\frac{1}{2}\\,\\left(k\\,\\left(\\frac{C_k}{R_k}-1\\right)+1\\right)$$\n",
    "\n",
    "where $C_k$ and $R_k$ are the numbers of continuations and reversals of size $k$.\n",
    "\n",
    "-   The UZ estimator can be viewed as a generalization of the $ALT$\n",
    "    estimator of Large to markets where the price may move by several\n",
    "    ticks.\n",
    "\n",
    "\n",
    "-   In fact, the UZ estimator can be made robust to bad data by\n",
    "    considering only moves of one tick.\n",
    "\n"
   ]
  },
  {
   "cell_type": "markdown",
   "id": "9352f097",
   "metadata": {
    "slideshow": {
     "slide_type": "slide"
    }
   },
   "source": [
    "### Estimation of integrated variance\n",
    "\n",
    "Integrated variance is estimated as\n",
    "$$\\widehat {RV}= \\sum_i (\\hat X_{t_i}-\\hat X_{t_{i-1}})^2$$ with\n",
    "$$\\hat X_{t_i}=p_{t_i}-\\alpha\\,\\left(\\frac{1}{2}-\\hat \\eta\\right)\\,\\mbox{sign} (p_{t_i}-p_{t_{i-1}})$$\n",
    "\n"
   ]
  },
  {
   "cell_type": "markdown",
   "id": "367ddb62",
   "metadata": {
    "slideshow": {
     "slide_type": "slide"
    }
   },
   "source": [
    "### Pros and cons of the Robert-Rosenbaum model\n",
    "\n",
    "-   Pros:\n",
    "\n",
    "    -   Prices quantized in ticks\n",
    "\n",
    "    -   Bid-ask bounce\n",
    "\n",
    "    -   Inverse relation between durations and volatility.\n",
    "\n",
    "    -   Price moves of several ticks are generated endogenously.\n",
    "\n",
    "    -   Autocorrelograms and cross correlograms are realistic, both in\n",
    "        calendar time and in trading time.\n",
    "\n",
    "\n",
    "-   Cons:\n",
    "\n",
    "    -   The data need to be very clean. If there are any outliers, they\n",
    "        badly affect the UZ volatility estimate.\n",
    "\n"
   ]
  },
  {
   "cell_type": "markdown",
   "id": "4dc8aa41",
   "metadata": {
    "slideshow": {
     "slide_type": "slide"
    }
   },
   "source": [
    "### Estimates of realized variance of BAC data\n",
    "\n",
    "To make the estimates easier to interpret, we quote\n",
    "$\\sqrt{RV} \\sim \\sigma\\,\\sqrt{T}$. Thus, a good estimate should be of\n",
    "the order of $2\\%$ or so.\n",
    "\n",
    "<span>Table 1. BAC data from 04-May-2012.</span>\n",
    "\n",
    "\n",
    "|   | Trades | Quotes |\n",
    "|---|--------|--------|\n",
    "| RV(q=1)  | 7.46%       |   1.75%     |\n",
    "| RV(q=229)$^1$ | 2.34%       |   2.19%     |\n",
    "| TSRV(q=5)  | 1.96%       |   2.01%     |\n",
    "| MSRV(q=5)  | 1.95%       |   2.01%     |\n",
    "| KRVTH(q=5)  | 1.94%       |   2.02%     |\n",
    "| KRVC(q=5)  | 1.94%       |   2.01%     |\n",
    "\n",
    "---\n",
    "$^1$This is roughly 5 minutes\n"
   ]
  },
  {
   "cell_type": "markdown",
   "id": "1fdb52ee",
   "metadata": {
    "slideshow": {
     "slide_type": "slide"
    }
   },
   "source": [
    "### BAC volume profile\n",
    "\n",
    "<span>BAC data from 04-May-2012.</span>"
   ]
  },
  {
   "cell_type": "code",
   "execution_count": 16,
   "id": "4960ffc2",
   "metadata": {
    "collapsed": false
   },
   "outputs": [
    {
     "data": {
      "image/png": "[encoded data removed]"
     },
     "metadata": {},
     "output_type": "display_data"
    }
   ],
   "source": [
    "%%R\n",
    "\n",
    "#----------------------------------------------------------------------------------\n",
    "# Compute and plot volume and realized variance profiles\n",
    "\n",
    "ep <- endpoints(tqBAC,'minutes',k=1)\n",
    "ne <- length(ep)\n",
    "ep <- ep[-ne]\n",
    "sz <- function(x){mean(as.numeric(x$SIZE))}\n",
    "szVec <- period.apply(tqBAC, INDEX=ep, FUN= sz)\n",
    "ns <- length(szVec)\n",
    "plot(szVec, ylab = \"# Shares\", main=NA)\n",
    "ks <- ksmooth(1:ns,szVec, bandwidth=50)$y\n",
    "sz2 <- as.xts(cbind(szVec,ks))\n",
    "names(sz2) <- c(\"SIZE\", \"kSIZE\")\n",
    "lines(sz2$kSIZE,col=\"red\")"
   ]
  },
  {
   "cell_type": "markdown",
   "id": "abde0373",
   "metadata": {},
   "source": [
    "-   <span>The red line is kernel-smoothed volume</span>"
   ]
  },
  {
   "cell_type": "markdown",
   "id": "a37d4187",
   "metadata": {
    "slideshow": {
     "slide_type": "slide"
    }
   },
   "source": [
    "### BAC volume and realized variance profiles\n",
    "\n",
    "<span>BAC data from 04-May-2012.</span>"
   ]
  },
  {
   "cell_type": "code",
   "execution_count": 17,
   "id": "ffdc40c5",
   "metadata": {
    "collapsed": false
   },
   "outputs": [
    {
     "name": "stdout",
     "output_type": "stream",
     "text": [
      "Error in axis(side = 4) : plot.new has not been called yet\n",
      "In addition: Warning message:\n",
      "In par(new = T) : calling par(new=TRUE) with no plot\n",
      "Error in axis(side = 4) : plot.new has not been called yet\n"
     ]
    }
   ],
   "source": [
    "%%R\n",
    "\n",
    "# Now compute realized variance from mid-quotes with the Tukey Hanning kernel (q=5) \n",
    "rv <- function(x){\n",
    "  mid <- (as.numeric(x$BID) + as.numeric(x$OFR))/2\n",
    "  rv <-KRVTH(mid,5)\n",
    "  return(rv)\n",
    "}\n",
    "sz <- function(x){mean(as.numeric(x$SIZE))}\n",
    "\n",
    "ep <- endpoints(tqBAC,'minutes',k=5)\n",
    "ep <- ep[-length(ep)]\n",
    "szVec <- period.apply(tqBAC, INDEX=ep, FUN= sz)\n",
    "rvVec <- period.apply(tqBAC, INDEX=ep, FUN= rv)\n",
    "#plot(rvVec)\n",
    "\n",
    "# Show the volume and RV plots together\n",
    "par(mar = c(5,5,2,5),cex=0.8)\n",
    "plot(szVec, ylab = \"# Shares\", main=NA)\n",
    "par(new = T)\n",
    "plot(rvVec, col = \"red\", axes = F, xlab = NA, ylab = NA,main=NA)\n",
    "axis(side = 4)\n",
    "mtext(side = 4, line = 3, \"RV\")\n",
    "legend(\"top\",inset=0.2,legend=c(\"Volume    \",\"RV\"),col=c(\"black\",\"red\"),lwd=c(1,1))"
   ]
  },
  {
   "cell_type": "markdown",
   "id": "b7a9efdc",
   "metadata": {},
   "source": [
    "-   <span>The red line is kernel-smoothed volume</span>"
   ]
  },
  {
   "cell_type": "markdown",
   "id": "23810424",
   "metadata": {
    "slideshow": {
     "slide_type": "slide"
    }
   },
   "source": [
    "### Estimating covariance\n",
    "\n",
    "-   The natural estimator of covariance is just\n",
    "\n",
    "    $$\\frac{1}{T}\\,\\sum_{i=1}^T\\,\\Delta p^{(1)}_i\\,\\Delta p^{(2)}_i$$\n",
    "    \n",
    "    where $p^{(1)}$ and $p^{(2)}$ are prices of two assets.\n",
    "\n",
    "\n",
    "-   However the prices $p^{(i)}$ are usually asynchronous.\n",
    "\n",
    "\n",
    "-   Consequently, this estimator decreases as sampling frequency\n",
    "    increases.\n",
    "\n",
    "    -   In fact, [Hayashi and Yoshida]<sup id=\"cite_ref-HayashiYoshida\" class=\"reference\"><a href=\"#cite_note-HayashiYoshida\"><span>[</span>4<span>]</span></a></sup> show under pretty innocuous assumptions\n",
    "        that it tends to zero as sampling frequency increases.\n",
    "\n",
    "\n",
    "-   This is called the <span>*Epps Effect*</span>.\n",
    "\n"
   ]
  },
  {
   "cell_type": "markdown",
   "id": "7680ddd0",
   "metadata": {
    "slideshow": {
     "slide_type": "slide"
    }
   },
   "source": [
    "### The Hayashi-Yoshida estimator\n",
    "\n",
    "$$HY_t=\\sum_{i \\leq t}\\,\\sum_{j \\leq t}\\,(p^{(1)}_i-p^{(1)}_{i-1})\\,(p^{(2)}_j-p^{(2)}_{j-1})\\,v_{ij}$$\n",
    "where\n",
    "\n",
    "$$v_{ij}={\\bf 1}_{[t_{i-1},t_i] \\cap [t_{j-1},t_j] \\neq \\emptyset}$$\n",
    "\n",
    "In\n",
    "words, the sum is over all overlapping intervals.\n",
    "\n"
   ]
  },
  {
   "cell_type": "markdown",
   "id": "dfed5b6d",
   "metadata": {
    "slideshow": {
     "slide_type": "slide"
    }
   },
   "source": [
    "### How does Hayashi-Yoshida work?\n",
    "\n",
    "Suppose\n",
    "\n",
    "\\begin{eqnarray*}\n",
    "dp^{(1)}_t&=&\\sigma_1\\,dZ_1\\\\\n",
    "dp^{(2)}_t&=&\\sigma_2\\,dZ_2\\end{eqnarray*}\n",
    "\n",
    "with $\\mathbb{E} [dZ_1\\,dZ_2]=\\rho\\,dt$. Then\n",
    "\n",
    "\\begin{eqnarray*}\n",
    "\\mathbb{E} \\left[(p^{(1)}_i-p^{(1)}_{i-1})\\,(p^{(2)}_j-p^{(2)}_{j-1})\\right]\n",
    "&=&\\mathbb{E} \\left[\\int_{t_{i-1}}^{t_i}\\,\\sigma_1\\,dZ_1\\,\\int_{t_{j-1}}^{t_j}\\,\\sigma_2\\,dZ_2\\right] \n",
    "= \\int_{[t_{i-1},t_i] \\cap [t_{j-1},t_j] }\\,\\rho\\,\\sigma_1\\,\\sigma_2\\,dt.\n",
    "\\end{eqnarray*}\n",
    "\n",
    "Summing over all partitions of the interval $[0,T]$ gives the result."
   ]
  },
  {
   "cell_type": "markdown",
   "id": "5c457a14",
   "metadata": {
    "slideshow": {
     "slide_type": "slide"
    }
   },
   "source": [
    "### The Corsi HAR-RV model\n",
    "\n",
    "-   The package highfrequency implements a regression to\n",
    "    fit the parameters of the so-called HAR-RV (Heterogeneous\n",
    "    Autoregressive Realized Variance) model of [Corsi]<sup id=\"cite_ref-Corsi\" class=\"reference\"><a href=\"#cite_note-Corsi\"><span>[</span>2<span>]</span></a></sup>.\n",
    "\n",
    "\n",
    "-   This model can be regarded as a poor man’s version of a long memory\n",
    "    model such as ARFIMA.\n",
    "\n",
    "    -   True long-memory models such as ARFIMA are notoriously hard to\n",
    "        fit.\n",
    "\n",
    "\n",
    "-   HAR-RV can also be considered an intelligent alternative to GARCH.\n",
    "\n",
    "\n",
    "-   The model boils down to the regression\n",
    "\n",
    "    $$RV_{t,t+h} = \\beta_0 + \\beta_D\\,RV_t + \\beta_W\\,RV_{t-5,t} + \\beta_M\\,RV_{t-22,t} + \\epsilon_{t,t+h}.$$\n",
    "    \n",
    "    In words, the RV forecast for $h$ days from now is a linear\n",
    "    combination of the current realized variance and (aggregate) RV\n",
    "    estimates for the last week and the last month."
   ]
  },
  {
   "cell_type": "markdown",
   "id": "2f3667ba",
   "metadata": {
    "slideshow": {
     "slide_type": "slide"
    }
   },
   "source": [
    "### Example "
   ]
  },
  {
   "cell_type": "code",
   "execution_count": 5,
   "id": "52634da7",
   "metadata": {
    "collapsed": false
   },
   "outputs": [
    {
     "name": "stdout",
     "output_type": "stream",
     "text": [
      "Error in get(\".xts_chob\", .plotxtsEnv) : object '.xts_chob' not found\n"
     ]
    }
   ],
   "source": [
    "%%R \n",
    "# Forecasting daily Realized volatility for DJI 2008 using the basic harModel: HARRV\n",
    "data(realized_library); #Get sample daily Realized Volatility data\n",
    "DJI_RV <- realized_library$Dow.Jones.Industrials.Realized.Variance; #Select DJI\n",
    "DJI_RV <- DJI_RV[!is.na(DJI_RV)] #Remove NA's\n",
    "DJI_RV <- DJI_RV['2008']\n",
    "\n",
    "x <- harModel(data=DJI_RV , periods = c(1,5,22), RVest = c(\"rCov\"), type=\"HARRV\",h=1,transform=NULL)\n",
    "plot(x)\n",
    "print(summary(x))\n"
   ]
  },
  {
   "cell_type": "markdown",
   "id": "b3bd39d7",
   "metadata": {
    "slideshow": {
     "slide_type": "slide"
    }
   },
   "source": [
    "### RV data from the Oxford-Man Institute\n",
    "\n",
    "-   In principle, it is straightforward to compute RV every day for any\n",
    "    given underlying using one of the better RV estimators we presented\n",
    "    above.\n",
    "\n",
    "\n",
    "-   In practice, this involves a lot of data work, especially cleaning.\n",
    "\n",
    "\n",
    "-   The R-package highfrequency has some historical RV\n",
    "    data sourced from the Oxford-Man Institute of Quantitative Finance\n",
    "    Realized Library.\n",
    "\n",
    "    -   More such data is publicly available at\n",
    "        <http://realized.oxford-man.ox.ac.uk>.\n",
    "\n",
    "        -   In particular, various historical RV estimates for SPX are\n",
    "            available.\n",
    "\n",
    "        -   Data is updated daily.\n",
    "\n"
   ]
  },
  {
   "cell_type": "markdown",
   "id": "9b025d16",
   "metadata": {
    "slideshow": {
     "slide_type": "slide"
    }
   },
   "source": [
    "### Summary\n",
    "\n",
    "-   There has been a huge expansion in the literature on realized\n",
    "    variance and covariance estimation since around 2003 with many very\n",
    "    interesting papers.\n",
    "\n",
    "\n",
    "-   As a result, we now have very efficient estimators for realized\n",
    "    variance that take into account all of the available information.\n",
    "\n",
    "    -   The newer volatility estimators are all very much more efficient\n",
    "        that RV sampled every 5 minutes.\n",
    "\n",
    "    -   Moreover, kernel-based estimators are easily updated in real\n",
    "        time by adding the most recent tick and dropping the oldest\n",
    "        tick.\n",
    "\n"
   ]
  },
  {
   "cell_type": "markdown",
   "id": "2332c321",
   "metadata": {
    "slideshow": {
     "slide_type": "slide"
    }
   },
   "source": [
    "### References\n",
    "<br />\n",
    "\n",
    "<div class=\"reflist\" style=\"list-style-type: decimal;\">\n",
    "\n",
    "<ol>\n",
    "\n",
    "  <li id=\"cite_note-BNS\"><span class=\"mw-cite-backlink\"><b><a href=\"#cite_ref-BNS\">^</a></b></span>O.E Barndorff-Nielsen, P.R Hansen, A Lunde, N\n",
    "Shephard, Realized kernels in practice: Trades and quotes,\n",
    "<span>*Econometrics Journal*</span> <span>**12 (3)**</span> 1–32 (2009).\n",
    "  </li>\n",
    "  \n",
    "  <li id=\"cite_note-Corsi\"><span class=\"mw-cite-backlink\"><b><a href=\"#cite_ref-Corsi\">^</a></b></span>Fulvio Corsi, A simple approximate long-memory model of realized\n",
    "volatility, <span>*Journal of Financial Econometrics*</span>\n",
    "<span>**7**</span>(2) 174–196 (2009).\n",
    "  </li>\n",
    "  \n",
    "  <li id=\"cite_note-GatheralOomen\"><span class=\"mw-cite-backlink\"><b><a href=\"#cite_ref-GatheralOomen\">^</a></b></span>Jim Gatheral and Roel C. A Oomen, Zero-intelligence\n",
    "realized variance estimation, <span>*Finance and Stochastics\n",
    "*</span><span>**14**</span>(2) 249–283 (2010).\n",
    "  </li>\n",
    "  <li id=\"cite_note-HayashiYoshida\"><span class=\"mw-cite-backlink\"><b><a href=\"#cite_ref-HayashiYoshida\">^</a></b></span>Takaki Hayashi and Nakahiro Yoshida, On covariance\n",
    "estimation of non-synchronously observed diffusion processes,\n",
    "<span>*Bernoulli *</span><span>**11**</span>(2) 359–379 (2005).\n",
    "  </li>\n",
    "  \n",
    "    <li id=\"cite_note-McAleerMedeiros\"><span class=\"mw-cite-backlink\"><b><a href=\"#cite_ref-McAleerMedeiros\">^</a></b></span>Michael McAleer and Marcelo C. Medeiros ,\n",
    "Realized Volatility: A Review, <span>*Econometric Reviews*</span>\n",
    "<span>**27**</span>(1) 10–45 (2008).\n",
    "  </li>\n",
    "  \n",
    "    <li id=\"cite_note-RobertRosenbaum\"><span class=\"mw-cite-backlink\"><b><a href=\"#cite_ref-RobertRosenbaum\">^</a></b></span>Christian Y. Robert and Mathieu Rosenbaum,\n",
    "Volatility and covariation estimation when microstructure noise and\n",
    "trading times are endogenous, <span>*Mathematical Finance*</span>\n",
    "<span>**22**</span>(1), 133–164 (2012).\n",
    "  </li>\n",
    "</ol>"
   ]
  }
 ],
 "metadata": {},
 "nbformat": 4,
 "nbformat_minor": 5
}
