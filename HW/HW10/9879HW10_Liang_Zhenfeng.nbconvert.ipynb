{
 "cells": [
  {
   "cell_type": "markdown",
   "id": "454900f9",
   "metadata": {},
   "source": [
    "# Zhenfeng Liang"
   ]
  },
  {
   "cell_type": "markdown",
   "id": "2c800db1",
   "metadata": {},
   "source": [
    "# MTH9879 Homework 10\n",
    "\n",
    "Assigned: April 28, 2015.\n",
    "Due: May 12, 2015 by 6pm. \n",
    "\n",
    "Late homework **will not be accepted**.\n",
    "\n",
    "$$\n",
    "\\newcommand{\\supp}{\\mathrm{supp}}\n",
    "\\newcommand{\\E}{\\mathbb{E}}\n",
    "\\newcommand{\\Eof}[1]{\\mathbb{E}\\left[ #1 \\right]}\n",
    "\\def\\Cov{{ \\mbox{Cov} }}\n",
    "\\def\\Var{{ \\mbox{Var} }}\n",
    "\\newcommand{\\1}{\\mathbf{1} }\n",
    "\\newcommand{\\PP}{\\mathbb{P} }\n",
    "%\\newcommand{\\Pr}{\\mathrm{Pr} }\n",
    "\\newcommand{\\QQ}{\\mathbb{Q} }\n",
    "\\newcommand{\\RR}{\\mathbb{R} }\n",
    "\\newcommand{\\DD}{\\mathbb{D} }\n",
    "\\newcommand{\\HH}{\\mathbb{H} }\n",
    "\\newcommand{\\spn}{\\mathrm{span} }\n",
    "\\newcommand{\\cov}{\\mathrm{cov} }\n",
    "\\newcommand{\\sgn}{\\mathrm{sgn} }\n",
    "\\newcommand{\\HS}{\\mathcal{L}_{\\mathrm{HS}} }\n",
    "%\\newcommand{\\HS}{\\mathrm{HS} }\n",
    "\\newcommand{\\trace}{\\mathrm{trace} }\n",
    "\\newcommand{\\LL}{\\mathcal{L} }\n",
    "%\\newcommand{\\LL}{\\mathrm{L} }\n",
    "\\newcommand{\\s}{\\mathcal{S} }\n",
    "\\newcommand{\\ee}{\\mathcal{E} }\n",
    "\\newcommand{\\ff}{\\mathcal{F} }\n",
    "\\newcommand{\\hh}{\\mathcal{H} }\n",
    "\\newcommand{\\bb}{\\mathcal{B} }\n",
    "\\newcommand{\\dd}{\\mathcal{D} }\n",
    "\\newcommand{\\g}{\\mathcal{G} }\n",
    "\\newcommand{\\p}{\\partial}\n",
    "\\newcommand{\\half}{\\frac{1}{2} }\n",
    "\\newcommand{\\T}{\\mathcal{T} }\n",
    "\\newcommand{\\bi}{\\begin{itemize}}\n",
    "\\newcommand{\\ei}{\\end{itemize}}\n",
    "\\newcommand{\\beq}{\\begin{equation}}\n",
    "\\newcommand{\\eeq}{\\end{equation}}\n",
    "\\newcommand{\\beas}{\\begin{eqnarray*}}\n",
    "\\newcommand{\\eeas}{\\end{eqnarray*}}\n",
    "\\newcommand{\\cO}{\\mathcal{O}}\n",
    "\\newcommand{\\cC}{\\mathcal{C}}\n",
    "\\newcommand{\\cF}{\\mathcal{F}}\n",
    "\\newcommand{\\cL}{\\mathcal{L}}\n",
    "\\newcommand{\\BS}{\\text{BS}}\n",
    "$$"
   ]
  },
  {
   "cell_type": "markdown",
   "id": "c245a184",
   "metadata": {},
   "source": [
    "<font color = \"red\">Homework is to be done by each student individually.  To receive full credit, you must email a completed copy of this iPython notebook to Yu Gan (yugan323@gmail.com), Fubo Shi (fubo.shi.baruch@gmail.com), and Tai-Ho Wang (tai-ho.wang@baruch.cuny.edu) by the due date and time.  All R-code must run correctly and solutions must be written up neatly in Markdown/LaTeX format.\n",
    "\n",
    "<font color=\"blue\">If you encounter problems with Markdown/LaTeX or iPython notebook, please contact your TAs Yu Gan and/or Fubo Shi.\n"
   ]
  },
  {
   "cell_type": "markdown",
   "id": "f5a961a8",
   "metadata": {},
   "source": [
    "### Set up R environment"
   ]
  },
  {
   "cell_type": "code",
   "execution_count": 1,
   "id": "43157193",
   "metadata": {
    "collapsed": false
   },
   "outputs": [],
   "source": [
    "%load_ext rmagic"
   ]
  },
  {
   "cell_type": "markdown",
   "id": "40b64615",
   "metadata": {},
   "source": [
    "## Numerical solution of Fredholm equation"
   ]
  },
  {
   "cell_type": "markdown",
   "id": "fd7ae789",
   "metadata": {},
   "source": [
    "### 1. (12 points)\n",
    "Consider the Fredholm equation (7) in Lecture 10:\n",
    "\n",
    "$$\n",
    "\\int_0^T{G}(|t-s|)\\,dx_s =\\text{const.}\\qquad\\text{for all $t\\in [0,T]$.}\n",
    "$$\n",
    "\n",
    "Define $t_i:={i}\\frac T{N}$. One way to discretize this integral equation is as follows:\n",
    "\n",
    "$$\n",
    "\\sum_{j=1}^N G_{ij}\\,v_j=\\text{const.}\n",
    "$$\n",
    "\n",
    "where $v_j=x_{t_{j}}-x_{t_{j-1}}$ and\n",
    "\n",
    "<a name=\"eq:1\"></a>(1)\n",
    "$$\n",
    "G_{ij}=\n",
    "\\int_{t_{i-1}}^{t_i}\\,\\int_{t_{j-1}}^{t_j}\\,G(|t-s|)\\,ds\\,dt.\n",
    "$$\n",
    "\n",
    "(a) Derive an explicit expression for the $G_{ij}$ in the case\n",
    "$$\n",
    "G(\\tau)=\\frac {1}{(1+\\tau)^2}.\n",
    "$$\n",
    "You will need to compute separate expressions for the cases $i \\neq j$ and $i=j$.\n",
    "\n",
    "(b) With $N=512$, use matrix algebra to solve equation [(1)](#eq:1) numerically with this decay kernel.\n",
    "\n",
    "(c) Plot your results - you should end up with something like the top figure in Figure 2 of Lecture 10.\n",
    "\n"
   ]
  },
  {
   "cell_type": "markdown",
   "id": "390751f6",
   "metadata": {},
   "source": [
    "## Solution\n",
    "\n",
    "### (a)\n",
    "\n",
    "We need to consider three cases, $i = j$, $i < j$ and $i > j$.\n",
    "\n",
    "Case 1, $i < j$\n",
    "\n",
    "\\begin{eqnarray*}\n",
    "G_{ij}&=&\n",
    "\\int_{t_{i-1}}^{t_i}\\,\\int_{t_{j-1}}^{t_j}\\,G(|t-s|)\\,ds\\,dt. \\\\\n",
    "&=& \\int_{t_{i-1}}^{t_i}\\,\\int_{t_{j-1}}^{t_j}\\,\\frac{1}{(1+s-t)^2}\\,ds\\,dt.\n",
    "\\end{eqnarray*}\n",
    "\n",
    "Case 2, $i > j$\n",
    "\n",
    "\\begin{eqnarray*}\n",
    "G_{ij}&=&\n",
    "\\int_{t_{i-1}}^{t_i}\\,\\int_{t_{j-1}}^{t_j}\\,G(|t-s|)\\,ds\\,dt. \\\\\n",
    "&=& \\int_{t_{i-1}}^{t_i}\\,\\int_{t_{j-1}}^{t_j}\\,\\frac{1}{(1+t-s)^2}\\,ds\\,dt.\n",
    "\\end{eqnarray*}\n",
    "\n",
    "Case 3, $i = j$\n",
    "\n",
    "\\begin{eqnarray*}\n",
    "G_{ij}&=&\n",
    "\\int_{t_{i-1}}^{t_i}\\,\\int_{t_{j-1}}^{t_j}\\,G(|t-s|)\\,ds\\,dt. \\\\\n",
    "&=& \\int_{t_{i-1}}^{t_i}\\,\\int_{t_{j-1}}^{t}\\,\\frac{1}{(1+t-s)^2}\\,ds + \\,\\int_{t}^{t_j}\\,\\frac{1}{(1+s-t)^2}\\,ds\\,dt.\n",
    "\\end{eqnarray*}\n",
    "\n",
    "With some calculus, we got,\n",
    "\n",
    "$$\n",
    "G_{ij} = \\begin{cases} \\ln(1 + t_j - t_i) - \\ln(1 + t_j - t_{i-1}) + \\ln(1 + t_{j-1} - t_{i - 1}) - \\ln(1 + t_{j-1} - t_{i}), & \\mbox{if } i < j \\\\ \n",
    "\\ln(1 + t_i - t_j) - \\ln(1 + t_{i-1} - t_{j}) + \\ln(1 + t_{i-1} - t_{j - 1}) - \\ln(1 + t_{i} - t_{j-1}), & \\mbox{if } i > j \\\\ \n",
    "2\\,(t_i - t_{i-1}) -2\\,\\ln(1 + t_i - t_{i-1})  & \\mbox{if } j = i\\end{cases}\n",
    "$$"
   ]
  },
  {
   "cell_type": "code",
   "execution_count": 2,
   "id": "5a94d9ae",
   "metadata": {
    "collapsed": false
   },
   "outputs": [],
   "source": [
    "%%R\n",
    "\n",
    "N = 512\n",
    "T = 1\n",
    "\n",
    "cal_G <- function(i, j){\n",
    "\n",
    "    t_i = i * T / N\n",
    "    t_j = j * T / N\n",
    "    t_i_minus_1 = (i - 1) * T / N\n",
    "    t_j_minus_1 = (j - 1) * T / N\n",
    "    \n",
    "    if(i < j)\n",
    "    {\n",
    "        result <- log(1 + t_j - t_i) - log(1 + t_j - t_i_minus_1) + log(1 + t_j_minus_1 - t_i_minus_1) - log(1 + t_j_minus_1 - t_i)\n",
    "    }\n",
    "    else if(i > j)\n",
    "    {\n",
    "        result <- log(1 + t_i - t_j) - log(1 + t_i_minus_1 - t_j) + log(1 + t_i_minus_1 - t_j_minus_1) - log(1 - t_j_minus_1 + t_i)\n",
    "    \n",
    "    }\n",
    "    else\n",
    "    {\n",
    "        result <- 2 * (t_i - t_i_minus_1) - 2 * log(1 + t_i - t_i_minus_1)\n",
    "    }\n",
    "        \n",
    "    return (result)\n",
    "} \n"
   ]
  },
  {
   "cell_type": "code",
   "execution_count": 3,
   "id": "6f3c16b2",
   "metadata": {
    "collapsed": false
   },
   "outputs": [],
   "source": [
    "%%R\n",
    "\n",
    "G <- matrix(, nrow = N, ncol = N)\n",
    "\n",
    "for (i in 1 : N)\n",
    "{\n",
    "    for (j in 1 : N)\n",
    "    {\n",
    "        G[i, j] <- cal_G(i,j)\n",
    "    }    \n",
    "}\n",
    "\n",
    "const <- rep(1/100, N)\n",
    "\n",
    "# Solve for v\n",
    "v <- solve(G, const)\n"
   ]
  },
  {
   "cell_type": "code",
   "execution_count": 4,
   "id": "f91cce7c",
   "metadata": {
    "collapsed": false
   },
   "outputs": [
    {
     "data": {
      "image/png": "[encoded data removed]"
     },
     "metadata": {},
     "output_type": "display_data"
    }
   ],
   "source": [
    "%%R\n",
    "\n",
    "## (c)\n",
    "\n",
    "# Construct time\n",
    "t <- seq(T/N,T,by=T/N)\n",
    "\n",
    "# plot\n",
    "plot(t, v, col='red', type='l', main='v and time', ylab='v', xlab='time')"
   ]
  },
  {
   "cell_type": "markdown",
   "id": "a44f848b",
   "metadata": {},
   "source": [
    "## Optimal interval VWAP strategy in the square-root model"
   ]
  },
  {
   "cell_type": "markdown",
   "id": "2255141c",
   "metadata": {},
   "source": [
    "### 2. (12 points)\n",
    "\n",
    "Consider equation (11) of Lecture 10 for the cost of liquidation using interval VWAPs:\n",
    "\n",
    "$$\n",
    "\\cC=\\sum_{j=1}^m\\,C_{jj}+\\sum_{i< j}^m\\,C_{ji}.\n",
    "$$\n",
    "\n",
    "(a) With $m=3$ (that is 3 interval VWAP slices), and assuming the square-root process where\n",
    "\n",
    "$$\n",
    "h(v)=\\frac  3 4 \\sigma\\,\\sqrt{\\frac{v}{V}} =\\frac  3 4 \\sigma\\,\\sqrt{\\frac{\\dot x}{V}}, \n",
    "\\quad \\mbox{ and } \\quad\n",
    "G(\\tau)=1/\\sqrt{\\tau},\n",
    "$$\n",
    "\n",
    "compute explicit expressions for the matrix elements $C_{ji}$ in terms of $x_1$, $x_2$, $t_1$, and $t_2$ (noting that $t_0=0$ and $t_3=T$).\n",
    "\n",
    "(b) Minimize the resulting expression for the expected cost of liquidation numerically to find optimal choices of $x_1$ and $x_2$ when $t_1=T/3$, and $t_2=2 \\,T/3$.\n",
    "\n",
    "(c) What is the percentage saving from trading with the 3-slice strategy relative to a VWAP?\n",
    "\n",
    "(d) Explain to your non-mathematical manager why this strategy has lower expected cost."
   ]
  },
  {
   "cell_type": "markdown",
   "id": "6b76485e",
   "metadata": {},
   "source": [
    "## Solution\n",
    "\n",
    "### (a)\n",
    "\n",
    "For self-interaction term,\n",
    "\n",
    "$$C_{ii}=\\frac{x_i}{t_{i}-t_{i-1}}\\,h(v_i)\\,\\int_{t_{i-1}}^{t_i}\\,dt\\,\\int_{t_{i-1}}^{t}\\,\\frac{1}{\\sqrt{t-s}}\\,ds=\n",
    "\\frac{4}{3}\\,x_i\\,h(v_i)\\,\\sqrt{t_i-t_{i-1}} = \\sigma \\sqrt{\\frac{x_i^3}{V}} \\, \\forall i = 1 \\to 3$$\n",
    "\n",
    "\\begin{eqnarray*}\n",
    "C_{ji}\n",
    "&=& \\frac{x_j}{t_{j}-t_{j-1}}\\,h(v_i)\\,\\int_{t_{j-1}}^{t_j}\\,dt\\,\\int_{t_{i-1}}^{t_i}\\,\\frac{1}{\\sqrt{t-s}}\\,ds\\\\\n",
    "&=& \\frac{4}{3}\\,x_j\\,h(v_i)\\,\\frac{\\left(t_{j}-t_{i-1}\\right)^{3/2} -\\left(t_{j}-t_{i}\\right)^{3/2} -\\left(t_{j-1}-t_{i 1}\\right)^{3/2} +\\left(t_{j-1}-t_{i}\\right)^{3/2}}{t_{j}-t_{j-1}} \\\\\n",
    "&=& \\sigma\\,x_j\\,\\sqrt{\\frac{x_i}{V\\,(t_i - t_{i-1})}}\\,\\frac{\\left(t_{j}-t_{i-1}\\right)^{3/2}\n",
    "-\\left(t_{j}-t_{i}\\right)^{3/2}\n",
    "-\\left(t_{j-1}-t_{i-1}\\right)^{3/2}\n",
    "+\\left(t_{j-1}-t_{i}\\right)^{3/2}\n",
    "}{t_{j}-t_{j-1}}\n",
    "\\end{eqnarray*}\n",
    "\n",
    "Then we got,\n",
    "\n",
    "\\begin{eqnarray*}\n",
    "C_{21} &=& \\sigma x_2 \\sqrt{\\frac{x_1}{V}}(2\\sqrt{2}-2) \\\\\n",
    "C_{31} &=& \\sigma x_3 \\sqrt{\\frac{x_1}{V}}(3\\sqrt{3} - 4\\sqrt{2} + 1) \\\\\n",
    "C_{32} &=& x_3 \\sqrt{\\frac{x_2}{V}}(2\\sqrt{2} - 2)\n",
    "\\end{eqnarray*}"
   ]
  },
  {
   "cell_type": "markdown",
   "id": "b005e0da",
   "metadata": {},
   "source": [
    "### (b)\n",
    "\n",
    "The cost of liquidation,\n",
    "\n",
    "\\begin{eqnarray*}\n",
    "\\mathcal{C} &=& \\sum_{j=1}^m\\,C_{jj}+\\sum_{i< j}^m\\,C_{ji} = C_{11} + C_{22} + C_{33} + C_{21} + C_{31} + C_{32} \\\\\n",
    "&=& \\sigma \\sqrt{\\frac{x_1^3}{V}} + \\sigma \\sqrt{\\frac{x_2^3}{V}} + \\sigma \\sqrt{\\frac{x_3^3}{V}} + \\sigma x_2 \\sqrt{\\frac{x_1}{V}}(2\\sqrt{2}-2) + \\sigma x_3 \\sqrt{\\frac{x_1}{V}}(3\\sqrt{3} - 4\\sqrt{2} + 1) + x_3 \\sqrt{\\frac{x_2}{V}}(2\\sqrt{2} - 2)\n",
    "\\end{eqnarray*}\n",
    "\n",
    "where $x_1 + x_2 + x_3 = X$\n",
    "\n",
    "Without loss of generality, we let $\\sigma \\sqrt{\\frac{1}{V}} = 1$"
   ]
  },
  {
   "cell_type": "code",
   "execution_count": 5,
   "id": "d0061376",
   "metadata": {
    "collapsed": false
   },
   "outputs": [
    {
     "data": {
      "text/plain": [
       "Given the total number shares is  1000 . The x1 should be  647.0814  x2 should be  1.532216e-13"
      ]
     },
     "metadata": {},
     "output_type": "display_data"
    }
   ],
   "source": [
    "%%R\n",
    "\n",
    "# Without loss of generality, we let the total number of shares equal to 1000\n",
    "X <- 1000\n",
    "\n",
    "liquidation_cost <- function(x) {    \n",
    "    x3 <- X - x[1] - x[2];\n",
    "    \n",
    "    cost <- x[1] * sqrt(x[1]) + x[2] * sqrt(x[1])*(2 * sqrt(2) - 2) + x3 * sqrt(x[1]) * (3 * sqrt(3) - 4 * sqrt(2) + 1) +\n",
    "        x[2] * sqrt(x[2]) + x3  * sqrt(x[2]) * (2 * sqrt(2) - 2) + x3 * sqrt(x3);\n",
    "\n",
    "    return(cost);\n",
    "}   \n",
    "\n",
    "##\n",
    "x_guess <- c(X/3, X/3)\n",
    "fitted_x <- optim(x_guess, liquidation_cost)$par\n",
    "cat(\"Given the total number shares is \", X, \". The x1 should be \", fitted_x[1], \" x2 should be \", fitted_x[2])"
   ]
  },
  {
   "cell_type": "code",
   "execution_count": 6,
   "id": "ab82e1d2",
   "metadata": {
    "collapsed": false
   },
   "outputs": [
    {
     "data": {
      "text/plain": [
       "The percentage saving from trading with the 3-slice strategy relative to a VWAP is  11.67179 %"
      ]
     },
     "metadata": {},
     "output_type": "display_data"
    }
   ],
   "source": [
    "%%R\n",
    "\n",
    "# (c)\n",
    "\n",
    "three_slices_strategy_cost <- liquidation_cost(fitted_x)\n",
    "VWAP_cost <- X * sqrt(X)\n",
    "cat(\"The percentage saving from trading with the 3-slice strategy relative to a VWAP is \", \n",
    "    (VWAP_cost- three_slices_strategy_cost)/VWAP_cost*100, \"%\")\n"
   ]
  },
  {
   "cell_type": "markdown",
   "id": "8f021717",
   "metadata": {},
   "source": [
    "### (d)\n",
    "\n",
    "The reason is very straightforward. Because the market impact is transient. In this model, we are considering the market impact as transient which is true for the market. So, the cost will reduce as time goes by. But in the VWAP model, we assumed the market impact is permanent. The cost would not decrease as the time goes by. "
   ]
  },
  {
   "cell_type": "code",
   "execution_count": null,
   "id": "96ed54d0",
   "metadata": {
    "collapsed": false
   },
   "outputs": [],
   "source": []
  }
 ],
 "metadata": {},
 "nbformat": 4,
 "nbformat_minor": 5
}
