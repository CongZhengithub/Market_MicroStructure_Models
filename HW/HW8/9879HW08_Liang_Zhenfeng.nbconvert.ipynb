{
 "cells": [
  {
   "cell_type": "markdown",
   "id": "0552c0a9",
   "metadata": {},
   "source": [
    "# Zhenfeng Liang"
   ]
  },
  {
   "cell_type": "markdown",
   "id": "4c802024",
   "metadata": {},
   "source": [
    "# MTH9879 Homework 8\n",
    "\n",
    "Assigned: April 14, 2015.\n",
    "Due: April 28, 2015 by 6pm. \n",
    "\n",
    "Late homework **will not be accepted**.\n",
    "\n",
    "$$\n",
    "\\newcommand{\\supp}{\\mathrm{supp}}\n",
    "\\newcommand{\\E}{\\mathbb{E}}\n",
    "\\newcommand{\\Eof}[1]{\\mathbb{E}\\left[ #1 \\right]}\n",
    "\\def\\Cov{{ \\mbox{Cov} }}\n",
    "\\def\\Var{{ \\mbox{Var} }}\n",
    "\\newcommand{\\1}{\\mathbf{1} }\n",
    "\\newcommand{\\PP}{\\mathbb{P} }\n",
    "%\\newcommand{\\Pr}{\\mathrm{Pr} }\n",
    "\\newcommand{\\QQ}{\\mathbb{Q} }\n",
    "\\newcommand{\\RR}{\\mathbb{R} }\n",
    "\\newcommand{\\DD}{\\mathbb{D} }\n",
    "\\newcommand{\\HH}{\\mathbb{H} }\n",
    "\\newcommand{\\spn}{\\mathrm{span} }\n",
    "\\newcommand{\\cov}{\\mathrm{cov} }\n",
    "\\newcommand{\\sgn}{\\mathrm{sgn} }\n",
    "\\newcommand{\\HS}{\\mathcal{L}_{\\mathrm{HS}} }\n",
    "%\\newcommand{\\HS}{\\mathrm{HS} }\n",
    "\\newcommand{\\trace}{\\mathrm{trace} }\n",
    "\\newcommand{\\LL}{\\mathcal{L} }\n",
    "%\\newcommand{\\LL}{\\mathrm{L} }\n",
    "\\newcommand{\\s}{\\mathcal{S} }\n",
    "\\newcommand{\\ee}{\\mathcal{E} }\n",
    "\\newcommand{\\ff}{\\mathcal{F} }\n",
    "\\newcommand{\\hh}{\\mathcal{H} }\n",
    "\\newcommand{\\bb}{\\mathcal{B} }\n",
    "\\newcommand{\\dd}{\\mathcal{D} }\n",
    "\\newcommand{\\g}{\\mathcal{G} }\n",
    "\\newcommand{\\p}{\\partial}\n",
    "\\newcommand{\\half}{\\frac{1}{2} }\n",
    "\\newcommand{\\T}{\\mathcal{T} }\n",
    "\\newcommand{\\bi}{\\begin{itemize}}\n",
    "\\newcommand{\\ei}{\\end{itemize}}\n",
    "\\newcommand{\\beq}{\\begin{equation}}\n",
    "\\newcommand{\\eeq}{\\end{equation}}\n",
    "\\newcommand{\\beas}{\\begin{eqnarray*}}\n",
    "\\newcommand{\\eeas}{\\end{eqnarray*}}\n",
    "\\newcommand{\\cO}{\\mathcal{O}}\n",
    "\\newcommand{\\cF}{\\mathcal{F}}\n",
    "\\newcommand{\\cL}{\\mathcal{L}}\n",
    "\\newcommand{\\BS}{\\text{BS}}\n",
    "$$"
   ]
  },
  {
   "cell_type": "markdown",
   "id": "db03550d",
   "metadata": {},
   "source": [
    "<font color = \"red\">Homework is to be done by each student individually.  To receive full credit, you must email a completed copy of this iPython notebook to Yu Gan (yugan323@gmail.com), Fubo Shi (fubo.shi.baruch@gmail.com), and Tai-Ho Wang (tai-ho.wang@baruch.cuny.edu) by the due date and time.  All R-code must run correctly and solutions must be written up neatly in Markdown/LaTeX format.\n",
    "\n",
    "<font color=\"blue\">If you encounter problems with Markdown/LaTeX or iPython notebook, please contact your TAs Yu Gan and/or Fubo Shi.\n"
   ]
  },
  {
   "cell_type": "markdown",
   "id": "229a84ed",
   "metadata": {},
   "source": [
    "### 0. (0 points) \n",
    "Read Section 6.7 of Bouchaud, Farmer and Lillo."
   ]
  },
  {
   "cell_type": "markdown",
   "id": "f3673f1c",
   "metadata": {},
   "source": [
    "## Predictability of order flow"
   ]
  },
  {
   "cell_type": "markdown",
   "id": "1cc5708b",
   "metadata": {},
   "source": [
    "### 1. (6 points)\n",
    "\n",
    "Suppose that the distribution of meta order sizes $Q$ is exponential so that\n",
    "\n",
    "$$\n",
    "\\Pr(Q>V)= \\frac{1}{\\lambda}\\,e^{-\\lambda\\,V}\n",
    "$$\n",
    "\n",
    "Assuming slices of  constant size $\\bar v$, compute the conditional probability that a hidden order has more slices given that $n$ slices have already been observed.  Compare your result with the case where distribution of metaorder size is power-law."
   ]
  },
  {
   "cell_type": "markdown",
   "id": "3686ea79",
   "metadata": {},
   "source": [
    "## Solution\n",
    "\n",
    "Denote $q_t$ is the conditional probability,\n",
    "\\begin{eqnarray}\n",
    "q_t&=&\\Pr(Q \\geq (n+1)\\bar v|Q \\ge n \\bar v) = \\frac{\\Pr(Q \\ge (n+1)\\bar v)}{\\Pr(Q \\ge n \\bar v)} = e^{-\\lambda \\bar v}\n",
    "\\end{eqnarray}\n",
    "\n",
    "As we can see from the above formula, the conditional probability is constant.\n",
    "\n",
    "Compare to the result with the case where distribution of metaorder size is power-law,\n",
    "\n",
    "\\begin{eqnarray}\n",
    "q_t&=&\\Pr(Q \\geq (n+1) \\bar v|Q \\ge n\\bar v) = \\frac{\\Pr(Q \\ge (n+1)\\bar v)}{\\Pr(Q \\ge n\\bar v)} \\sim \\left(\\frac{n}{n+1}\\right)^\\beta\n",
    "\\end{eqnarray}\n",
    "\n",
    "which increses with the order slices. The longer that the metaorder remains active, the larger the probability that it will continues."
   ]
  },
  {
   "cell_type": "markdown",
   "id": "5125b204",
   "metadata": {},
   "source": [
    "## Price manipulation"
   ]
  },
  {
   "cell_type": "markdown",
   "id": "67425a04",
   "metadata": {},
   "source": [
    "### 2. (10 points)\n",
    "\n",
    "Consider the price process\n",
    "\n",
    "$$\n",
    "S_t=S_0+\\int_0^t\\,f(\\dot{x}_s)\\,G(t-s)\\,ds+\\int_0^t\\,\\sigma\\,dZ_s\n",
    "$$\n",
    "\n",
    "where ${\\dot x}_s$ is the rate of trading in dollars at time $s < t$, $f(\\dot{x}_s)$ represents the impact of trading at time $s$ and $G(t-s)$ is a decay factor.\n",
    "\n",
    "(a) With the choices\n",
    "\n",
    "$$\n",
    "f(v)=\\sqrt{v},\\quad G(\\tau)=\\frac{1}{1+\\tau},\n",
    "$$\n",
    "    \n",
    "repeat the computations in Lecture 8  to derive an expression for the expected cost of accumulating shares at the rate $v_1$ and liquidating them at the rate $v_2$.\n",
    "\n",
    "(b) Verify that with $T=1$, $v_1=1/4$, $v_2=1$, the expected cost of this round-trip strategy is negative, thus demonstrating that price manipulation is possible. (Recall from the lecture slides that price manipulation is always possible if $f(\\cdot)$ is nonlinear and the decay kernel $G(\\cdot)$  is finite at the origin.)\n",
    "\n",
    "Hint: You might consider using Mathematica or Wolfram Alpha to do the integrations."
   ]
  },
  {
   "cell_type": "markdown",
   "id": "aaf8f9c5",
   "metadata": {},
   "source": [
    "## Solution\n",
    "\n",
    "### (a)\n",
    "\n",
    "Equation (7) from the note,\n",
    "\n",
    "\\begin{eqnarray*}\n",
    "C_{11}&=&v_1\\,f\\left(v_1\\right)\\,\\int_0^{\\theta\\,T}\\,dt\\,\\int_0^t\\,G(t-s)\\,ds \\nonumber\\\\\n",
    "C_{22}&=&v_2\\,f\\left(v_2\\right)\\,\\int_{\\theta\\,T}^T\\,dt\\,\\int_{\\theta\\,T}^t\\,G(t-s)\\,ds\\nonumber\\\\\n",
    "C_{12}&=&v_2\\,f\\left(v_1\\right)\\,\\int_{\\theta\\,T}^T\\,dt\\,\\int_0^{\\theta\\,T}\\,G(t-s)\\,ds\n",
    "\\end{eqnarray*}\n",
    "\n",
    "where $\\theta$ is such that $v_1\\,\\theta\\,T-v_2\\,(T-\\theta\\,T)=0$ so\n",
    "$$\\theta= \\frac{v_2}{v_1+v_2}$$\n",
    "\n",
    "In our case,\n",
    "\n",
    "$$\n",
    "f(v)=\\sqrt{v},\\quad G(\\tau)=\\frac{1}{1+\\tau},\n",
    "$$\n",
    "\n",
    "So, \n",
    "\\begin{eqnarray*}\n",
    "C_{11}&=&v_1\\,f\\left(v_1\\right)\\,\\int_0^{\\theta\\,T}\\,dt\\,\\int_0^t\\,\\frac{1}{1+t-s}\\,ds \\\\\n",
    "C_{22}&=&v_2\\,f\\left(v_2\\right)\\,\\int_{\\theta\\,T}^T\\,dt\\,\\int_{\\theta\\,T}^t\\,\\frac{1}{1+t-s}\\,ds\\nonumber\\\\\n",
    "C_{12}&=&v_2\\,f\\left(v_1\\right)\\,\\int_{\\theta\\,T}^T\\,dt\\,\\int_0^{\\theta\\,T}\\,\\frac{1}{1+t-s}\\,ds\n",
    "\\end{eqnarray*}\n",
    "\n",
    "With some calculation,\n",
    "\\begin{eqnarray*}\n",
    "C_{11}&=& v_1\\sqrt{v_1}((1+\\theta T)ln(1+\\theta T) - \\theta T)\\nonumber\\\\\n",
    "C_{22}&=& v_2\\sqrt{v_2}((1 + (1-\\theta)T)ln(1 + (1 -\\theta)T) - (1 - \\theta)T)\\nonumber\\\\\n",
    "C_{12}&=& v_2\\sqrt{v_1}((1+T)ln(1+T) - (1 + \\theta T)ln(1 + \\theta T) - (1 + (1-\\theta)T)ln(1 + (1 -\\theta) T))\n",
    "\\end{eqnarray*}\n",
    "\n",
    "So, the total expected cost is,\n",
    "\n",
    "\\begin{eqnarray*}\n",
    "C_{11} + && C_{22} - C_{12} \\\\\n",
    "&& = v_1\\sqrt{v_1}((1+\\theta T)ln(1+\\theta T) - \\theta T) \\\\\n",
    "&& + v_2\\sqrt{v_2}((1 + (1-\\theta)T)ln(1 + (1 -\\theta)T) - (1 - \\theta)T)\\\\\n",
    "&& - v_2\\sqrt{v_1}((1+T)ln(1+T) - (1 + \\theta T)ln(1 + \\theta T) - (1 + (1-\\theta)T)ln(1 + (1 -\\theta) T))\n",
    "\\end{eqnarray*}\n",
    "\n"
   ]
  },
  {
   "cell_type": "markdown",
   "id": "5578b1e5",
   "metadata": {},
   "source": [
    "### (b)\n",
    "\n",
    "When $T = 1, v_1 = \\frac{1}{4}, v_2 = 1$\n",
    "$$\n",
    "\\theta = \\frac{v_2}{v_1 + v_2} = 0.8\n",
    "$$\n",
    "\n",
    "We plug into the above formula, we have,\n",
    "\n",
    "$$\n",
    "C_{11} + C_{22} - C{12} = -0.00370838\n",
    "$$\n",
    "\n",
    "We can see that the trading cost is negative, so the price manipulation is possible."
   ]
  },
  {
   "cell_type": "markdown",
   "id": "408c0b3b",
   "metadata": {},
   "source": [
    "### Set up R environment"
   ]
  },
  {
   "cell_type": "code",
   "execution_count": 13,
   "id": "c5ce4cea",
   "metadata": {
    "collapsed": false
   },
   "outputs": [
    {
     "name": "stdout",
     "output_type": "stream",
     "text": [
      "The rmagic extension is already loaded. To reload it, use:\n",
      "  %reload_ext rmagic\n"
     ]
    }
   ],
   "source": [
    "%load_ext rmagic"
   ]
  },
  {
   "cell_type": "markdown",
   "id": "5e398e25",
   "metadata": {},
   "source": [
    "## The Obizhaeva-Wang model"
   ]
  },
  {
   "cell_type": "markdown",
   "id": "f0fc5696",
   "metadata": {},
   "source": [
    "### 3. (8 points)\n",
    "\n",
    "In the Obizhaeva-Wang (OW) model, the price follows\n",
    "\n",
    "$$\n",
    "S_t=S_0+\\eta\\,\\int_0^t\\,{\\dot x}_s\\,e^{-\\rho\\,(t-s)}\\,ds+\\int_0^t\\,\\sigma\\,dZ_s\n",
    "$$\n",
    "\n",
    "(a) Derive an expression for the expected price path corresponding to a VWAP execution.\n",
    "\n",
    "(b) With the duration $T$ of the meta order set to 1, plot the expected price path from time $t=0$ to time $t=2$ for $\\rho=0.5,1,$ and $2$.\n",
    "\n",
    "(c) What is the expected average cost per share $\\bar S_T$ of a VWAP order in the OW model?"
   ]
  },
  {
   "cell_type": "markdown",
   "id": "fe648be2",
   "metadata": {},
   "source": [
    "## Solution\n",
    "\n",
    "### (a)\n",
    "\n",
    "Denote $n$ as the size of the metaorder, corresponding to a VWAP execution with duration $T$, $\\dot x = \\frac{n}{T}$\n",
    "\n",
    "Since the expectation of the noise term is zero, the expected price path is,\n",
    "\n",
    "\\begin{eqnarray*}\n",
    "E[S_t] &=& S_0 + \\eta \\int_0^{t \\wedge T} \\frac{n}{T}e^{- \\rho\\,(t - s)}\\,ds \\\\\n",
    "&=& S_0 + \\frac{n\\,\\eta}{\\rho\\,T}e^{-\\rho\\,t}(e^{\\rho\\,(t\\,\\wedge\\,T)}-1)\n",
    "\\end{eqnarray*}"
   ]
  },
  {
   "cell_type": "markdown",
   "id": "41dac890",
   "metadata": {},
   "source": [
    "### (b)\n",
    "\n",
    "Without loss of generality, we set $S_0 = 0$, $n\\eta=1$"
   ]
  },
  {
   "cell_type": "code",
   "execution_count": 20,
   "id": "d5d66a02",
   "metadata": {
    "collapsed": false
   },
   "outputs": [
    {
     "data": {
      "image/png": "[encoded data removed]"
     },
     "metadata": {},
     "output_type": "display_data"
    }
   ],
   "source": [
    "%%R\n",
    "\n",
    "T <- 1\n",
    "S_0 <- 0\n",
    "n_eta <- 1\n",
    "\n",
    "price_path <- function(t,rho){\n",
    "    \n",
    "    temp <- 0\n",
    "    if(t < T){\n",
    "        temp <- exp(rho * t)\n",
    "    }\n",
    "    else{\n",
    "        temp <- exp(rho * T)\n",
    "    }\n",
    "    \n",
    "    result <- S_0 + n_eta/(rho*T)*exp(-rho*t)*(temp - 1)\n",
    "    \n",
    "    return (result)\n",
    "}\n",
    "\n",
    "# Create a path vector\n",
    "t <- seq(from<-0, to<-2, by<-0.01)\n",
    "\n",
    "rho <- 0.5\n",
    "S_t <- sapply(t, function(x) price_path(x,rho))\n",
    "plot(t,S_t,col=\"red\",type=\"l\", main = expression(\"Expected price path\"))\n",
    "\n",
    "rho <- 1\n",
    "S_t <- sapply(t, function(x) price_path(x,rho))\n",
    "lines(t,S_t, col=\"blue\")\n",
    "    \n",
    "rho <- 2\n",
    "S_t <- sapply(t, function(x) price_path(x,rho))\n",
    "lines(t,S_t, col=\"green\")\n",
    "    \n",
    "legend(\"topright\", c(\"rho = 0.5\",\"rho = 1\",\"rho = 2\"),\n",
    "           lty = c(1,1,1), col=c(\"red\",\"blue\",\"green\"))"
   ]
  },
  {
   "cell_type": "markdown",
   "id": "ec5bdb16",
   "metadata": {},
   "source": [
    "### (c)\n",
    "\n",
    "Under VWAP execution, $\\dot x = \\frac{n}{T}$\n",
    "\n",
    "The expected total cost is,\n",
    "\n",
    "\\begin{eqnarray*}\n",
    "C[\\Pi]&=&\\eta\\,\\int_0^T\\,{\\dot x}_t\\,dt\\,\\int_0^t\\,{\\dot x}_s\\,\\exp\\left\\{-\\rho\\,(t-s)\\right\\}\\,ds \\\\\n",
    "&=& \\eta\\,(\\frac{n}{T})^2\\,\\int_0^T\\,dt\\,\\int_0^t\\,e^{-\\rho\\,(t-s)}\\,ds \\\\\n",
    "&=& \\eta\\,(\\frac{n}{T})^2\\,\\frac{1}{\\rho}\\,\\int_0^T\\,1-e^{-\\rho\\,t}dt \\\\\n",
    "&=& \\frac{\\eta\\,n^2}{T^2\\,\\rho^2}(\\rho\\,T\\,+\\,e^{-\\rho\\,T}\\,-\\,1)\n",
    "\\end{eqnarray*}\n",
    "\n",
    "So, the expected average trading cost per share is,\n",
    "\n",
    "$$\n",
    "\\frac{C[\\Pi]}{n} = \\frac{\\eta\\,n}{T^2\\,\\rho^2}(\\rho\\,T\\,+\\,e^{-\\rho\\,T}\\,-\\,1)\n",
    "$$"
   ]
  },
  {
   "cell_type": "code",
   "execution_count": null,
   "id": "f0b574c5",
   "metadata": {
    "collapsed": false
   },
   "outputs": [],
   "source": []
  }
 ],
 "metadata": {},
 "nbformat": 4,
 "nbformat_minor": 5
}
