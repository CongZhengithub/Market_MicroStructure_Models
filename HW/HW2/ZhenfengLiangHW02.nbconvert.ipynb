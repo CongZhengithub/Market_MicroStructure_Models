{
 "cells": [
  {
   "cell_type": "markdown",
   "id": "30390271",
   "metadata": {},
   "source": [
    "# MTH9879 Homework 2\n",
    "\n",
    "Assigned: February 10, 2015.\n",
    "Due: February 24, 2015 by 6pm. \n",
    "\n",
    "Late homework **will not be accepted**.\n",
    "\n",
    "$$\n",
    "\\newcommand{\\supp}{\\mathrm{supp}}\n",
    "\\newcommand{\\E}{\\mathbb{E} }\n",
    "\\def\\Cov{{ \\mbox{Cov} }}\n",
    "\\def\\Var{{ \\mbox{Var} }}\n",
    "\\newcommand{\\1}{\\mathbf{1} }\n",
    "\\newcommand{\\PP}{\\mathbb{P} }\n",
    "%\\newcommand{\\Pr}{\\mathrm{Pr} }\n",
    "\\newcommand{\\QQ}{\\mathbb{Q} }\n",
    "\\newcommand{\\RR}{\\mathbb{R} }\n",
    "\\newcommand{\\DD}{\\mathbb{D} }\n",
    "\\newcommand{\\HH}{\\mathbb{H} }\n",
    "\\newcommand{\\spn}{\\mathrm{span} }\n",
    "\\newcommand{\\cov}{\\mathrm{cov} }\n",
    "\\newcommand{\\sgn}{\\mathrm{sgn} }\n",
    "\\newcommand{\\HS}{\\mathcal{L}_{\\mathrm{HS}} }\n",
    "%\\newcommand{\\HS}{\\mathrm{HS} }\n",
    "\\newcommand{\\trace}{\\mathrm{trace} }\n",
    "\\newcommand{\\LL}{\\mathcal{L} }\n",
    "%\\newcommand{\\LL}{\\mathrm{L} }\n",
    "\\newcommand{\\s}{\\mathcal{S} }\n",
    "\\newcommand{\\ee}{\\mathcal{E} }\n",
    "\\newcommand{\\ff}{\\mathcal{F} }\n",
    "\\newcommand{\\hh}{\\mathcal{H} }\n",
    "\\newcommand{\\bb}{\\mathcal{B} }\n",
    "\\newcommand{\\dd}{\\mathcal{D} }\n",
    "\\newcommand{\\g}{\\mathcal{G} }\n",
    "\\newcommand{\\p}{\\partial}\n",
    "\\newcommand{\\half}{\\frac{1}{2} }\n",
    "\\newcommand{\\T}{\\mathcal{T} }\n",
    "\\newcommand{\\bi}{\\begin{itemize}}\n",
    "\\newcommand{\\ei}{\\end{itemize}}\n",
    "\\newcommand{\\beq}{\\begin{equation}}\n",
    "\\newcommand{\\eeq}{\\end{equation}}\n",
    "\\newcommand{\\beas}{\\begin{eqnarray*}}\n",
    "\\newcommand{\\eeas}{\\end{eqnarray*}}\n",
    "\\newcommand{\\cO}{\\mathcal{O}}\n",
    "\\newcommand{\\cF}{\\mathcal{F}}\n",
    "\\newcommand{\\cL}{\\mathcal{L}}\n",
    "\\newcommand{\\BS}{\\text{BS}}\n",
    "$$"
   ]
  },
  {
   "cell_type": "markdown",
   "id": "2273b393",
   "metadata": {},
   "source": [
    "<font color = \"red\">Homework is to be done by each student individually.  To receive full credit, you must email a completed copy of this iPython notebook to Yu Gan (yugan323@gmail.com), Fubo Shi (fubo.shi.baruch@gmail.com), and Tai-Ho Wang (tai-ho.wang@baruch.cuny.edu) by the due date and time.  All R-code must run correctly and solutions must be written up neatly in Markdown/LaTeX format.\n",
    "\n",
    "<font color=\"blue\">If you encounter problems with Markdown/LaTeX or iPython notebook, please contact your TAs Yu Gan and/or Fubo Shi.\n"
   ]
  },
  {
   "cell_type": "markdown",
   "id": "46278df4",
   "metadata": {},
   "source": [
    "### 0. (0 points) \n",
    "\n",
    "Read Chapter 12 of Hasbrouck and Section 6.4 of Foucault, Pagano and R&ouml;ell.\n"
   ]
  },
  {
   "cell_type": "markdown",
   "id": "ba0f1fc8",
   "metadata": {},
   "source": [
    "## The Parlour (1998) model"
   ]
  },
  {
   "cell_type": "markdown",
   "id": "addbaf18",
   "metadata": {},
   "source": [
    "### 1. (10 points) \n",
    "Consider the first step $t = 1$ of the 3-step order book case presented in the lecture slides. Suppose that the order book at (or just before) $t = 1$ has one share offered and one share bid ($n_B = n_A = 1$).\n",
    "\n",
    "Give the probabilities as of a market buy, market sell, limit buy and limit sell at $t = 1$,\n",
    "You may use my Mathematica notebook *Parlour.nb* as a guide (if you wish)."
   ]
  },
  {
   "cell_type": "markdown",
   "id": "5d8379d5",
   "metadata": {},
   "source": [
    "#### Solution:\n",
    "\n",
    "The probability of a limit buy order at $t=1$ being filled is $\\PP = \\frac{5}{22} \\times \\frac{5}{22}=\\frac{25}{484}.$\n",
    "\n",
    "Traders will submit a MS only if\n",
    "$B - \\beta_t\\,V \\geq (A - \\beta_t\\,V) \\,\\PP$ or\n",
    "equivalently\n",
    "\n",
    "$$\\beta_1 \\leq \\frac{B-A\\,\\PP}{V\\,(1-\\PP)} = \\frac{B-A\\,\\PP}{V\\,(1-\\PP)} =\\frac{4540}{5049}.$$\n",
    "\n",
    "Thus,\n",
    "\\begin{eqnarray*}\n",
    "{\\mathbb{P} }_{MB}&=&{\\mathbb{P} }_{MS}=\\frac{1}{2}{\\mathbb{P} }\\left(\\beta_1<\\frac{4540}{5049}\\right)=\\frac{1135}{5049}\\\\\n",
    "{\\mathbb{P} }_{LB}&=&{\\mathbb{P} }_{LS}=\\frac{1}{2}{\\mathbb{P} }\\left(\\frac{4540}{5049}<\\beta_1<\\frac{12}{11}\\right)=\\frac{22}{459}\\\\\n",
    "{\\mathbb{P} }_{0}&=&1-2{\\mathbb{P} }_{MB}-2{\\mathbb{P} }_{LB}=1-\\frac{2270}{5049}-\\frac{44}{459}=\\frac{5}{11}.\\end{eqnarray*}"
   ]
  },
  {
   "cell_type": "markdown",
   "id": "62098ebf",
   "metadata": {},
   "source": [
    "### 2. (4 points) \n",
    "Explain why the optimal market/limit order decision depends in general on quantity available on both sides of the order book in the Parlour model."
   ]
  },
  {
   "cell_type": "markdown",
   "id": "294bca17",
   "metadata": {},
   "source": [
    "#### Solution:\n",
    "The probability of the Limit Order Probability depends on the order book for the next time step, which is related to the quantitity available on both sides. And the market order probability depends on the probability of Limit order\n",
    "    "
   ]
  },
  {
   "cell_type": "markdown",
   "id": "5cc0e318",
   "metadata": {},
   "source": [
    "### Set up R-environment"
   ]
  },
  {
   "cell_type": "code",
   "execution_count": 2,
   "id": "994a2e2a",
   "metadata": {
    "collapsed": false
   },
   "outputs": [],
   "source": [
    "%load_ext rmagic"
   ]
  },
  {
   "cell_type": "code",
   "execution_count": 3,
   "id": "69e0bd77",
   "metadata": {
    "collapsed": false
   },
   "outputs": [
    {
     "data": {
      "text/plain": [
       "trying URL 'http://mfe.baruch.cuny.edu/wp-content/uploads/2015/01/ziSetup.zip'\n",
       "Content type 'application/zip' length 1485 bytes\n",
       "opened URL\n",
       "==================================================\n",
       "downloaded 1485 bytes\n",
       "\n"
      ]
     },
     "metadata": {},
     "output_type": "display_data"
    }
   ],
   "source": [
    "%%R\n",
    "download.file(url=\"http://mfe.baruch.cuny.edu/wp-content/uploads/2015/01/ziSetup.zip\", destfile=\"ziSetup.zip\")\n",
    "unzip(zipfile=\"ziSetup.zip\")\n",
    "source(\"ziSetup.R\")"
   ]
  },
  {
   "cell_type": "markdown",
   "id": "75b06b47",
   "metadata": {},
   "source": [
    "## Cont-Kukanov optimal order placement"
   ]
  },
  {
   "cell_type": "markdown",
   "id": "310c5019",
   "metadata": {},
   "source": [
    "### 3. (16 points)\n",
    "\n",
    "Consider the two BATS exchanges BZX and BYX.  Suppose you are trying to buy shares of MSFT in 3.9 minutes ($1\\%$ of the trading day).  Suppose further that the two exchanges have the following characteristics:\n",
    "\n",
    "**Exchange** | **Make fee** | **Take fee** | **Daily volume** \n",
    "-----|-----:|-------:| ---- |\n",
    "| **(per share)** | **(per share)** | **(shares)** \n",
    "BZX | -0.32¢ | +0.30¢ | 10,500,000\n",
    "BYX | +0.03¢ | -0.03¢ | 1,300,000\n",
    "\n",
    "Assume the daily volatility of MSFT is $1\\%$ and that MSFT is trading at $\\$37.50$.\n",
    "\n",
    "(a) We may suppose that if your order is only partially filled, that's because the price moved away (*adverse selection*).  This suggests that we penalize any under fill of limit orders by $\\sigma\\,\\sqrt{T}$ where $T$ is the order duration.  Compute the corresponding value of $\\lambda_u$ in cents per share.\n",
    "\n",
    "\n",
    "(b) Assuming a spread of $1$ cent, what are $h$, $f$, and $r$ for BZX and BYX respectively (in cents per share)?\n",
    "\n",
    "\n",
    "(c) Assuming no seasonality, what is the mean value $\\bar \\xi$ of $\\xi$ (over 3.9 minutes) for BZX and BYX respectively (in shares)?\n",
    "\n",
    "\n",
    "(d)  Assume that $\\xi$ is log normally distributed with\n",
    "\n",
    "$$\n",
    "\\xi = \\bar \\xi \\,\\exp\\left\\{\\sigma\\,Z-\\frac 12\\,\\sigma^2\\right\\}.\n",
    "$$\n",
    "\n",
    "where $Z \\sim N(0,1)$ and $\\sigma = 1/2$.  What is the standard deviation of $\\xi$ (in terms of $\\bar \\xi$)?\n",
    "\n",
    "\n",
    "(e) Write R-code to determine the optimal order size $L^\\star+Q$ on BZX and BYX respectively. Assume here that you will either trade on BZX or BYX; there is no splitting of the order between the two exchanges. <br>\n",
    "(Hint: You may find the R function *qnorm(. )* useful).\n",
    "\n",
    "\n",
    "(f) Compare the optimal limit order sizes from part (e) with the ratios of quote sizes and volumes on BZX and BYX.  Are your results from part (e) roughly consistent with observation.  You may assume that the quote sizes shown on the MSFT BATS slides from Lecture 1 are typical."
   ]
  },
  {
   "cell_type": "markdown",
   "id": "84b3990a",
   "metadata": {},
   "source": [
    "#### Solution:\n",
    "\n",
    "(a)$\\ \\lambda_u = \\sigma\\,\\sqrt{T} = 1\\% \\times 37.50 \\times \\sqrt{1\\%} \\times 100 = 3.75\\ $  \n",
    "\n",
    "(b)\n",
    "For BZX: $h=0.5$, $f=0.3$, $r=-0.32$. \n",
    "For BYX: $h=0.5$, $f=-0.03$, $r=0.03$.\n",
    "\n",
    "(c)\n",
    "For BZX: $\\bar \\xi = 1\\% \\times 10500000 = 105000$. \n",
    "For BYX: $\\bar \\xi = 1\\% \\times 1300000 = 13000$.\n",
    "\n",
    "(d) Since $Z \\sim N(0,1)$ and $\\sigma = 1/2$, then $\\sigma\\,Z-\\frac 12\\,\\sigma^2 \\sim N(-0.125,0.25)$. Thus the standard deviation of $\\xi$ is $\\bar\\xi\\sqrt{e^\\frac 14 - 1} \\approx 0.5329\\ \\bar\\xi$"
   ]
  },
  {
   "cell_type": "code",
   "execution_count": 4,
   "id": "90acd591",
   "metadata": {
    "collapsed": false
   },
   "outputs": [
    {
     "data": {
      "text/plain": [
       "[1] 768873.6\n"
      ]
     },
     "metadata": {},
     "output_type": "display_data"
    }
   ],
   "source": [
    "%%R\n",
    "lamda <- 3.75\n",
    "h <- 0.5\n",
    "r <- 0.32\n",
    "f <- 0.3\n",
    "xi <- 1050000\n",
    "sigma <- 0.5\n",
    "tmp <- (2 * h + f + r) / (lamda + h + r)\n",
    "op_order <- qnorm(tmp)\n",
    "op_order <- xi * exp(op_order * sigma - 0.5 * sigma * sigma)\n",
    "print(op_order)"
   ]
  },
  {
   "cell_type": "code",
   "execution_count": 5,
   "id": "34fcef48",
   "metadata": {
    "collapsed": false
   },
   "outputs": [
    {
     "data": {
      "text/plain": [
       "[1] 78340.38\n"
      ]
     },
     "metadata": {},
     "output_type": "display_data"
    }
   ],
   "source": [
    "%%R\n",
    "lamda <- 3.75\n",
    "h <- 0.5\n",
    "r <- -0.03\n",
    "f <- -0.03\n",
    "xi <- 130000\n",
    "sigma <- 0.5\n",
    "tmp <- (2 * h + f + r) / (lamda + h + r)\n",
    "op_order <- qnorm(tmp)\n",
    "op_order <- xi * exp(op_order * sigma - 0.5 * sigma * sigma)\n",
    "print(op_order)"
   ]
  },
  {
   "cell_type": "markdown",
   "id": "5a9bf98f",
   "metadata": {},
   "source": [
    "(f) Rather roughly consistent."
   ]
  },
  {
   "cell_type": "markdown",
   "id": "0331a12d",
   "metadata": {},
   "source": [
    "## The Bouchaud-M&eacute;zard-Potters order book approximation"
   ]
  },
  {
   "cell_type": "markdown",
   "id": "28c9a736",
   "metadata": {},
   "source": [
    "### 4. (16 points)\n",
    "\n",
    "When $\\lambda(u)=\\alpha$,  a constant, the BMP order density becomes\n",
    "\n",
    "\\begin{eqnarray*}\n",
    "\\rho_{BMP}(\\Delta) &=& \\frac{\\alpha}{\\delta}\\,\\left\\{e^{-\\Delta/{\\tilde \\Delta}}\\,\\int_0^{\\Delta/{\\tilde\\Delta}}\\,\\sinh(u)\\,du + \\sinh(\\Delta/{\\tilde \\Delta})\\,\\int_{\\Delta/{\\tilde\\Delta}}^\\infty\\,e^{-u}\\,du\\right\\} \\\\\n",
    "&=&\\frac{\\alpha}{\\delta}\\,\\left\\{1 - e^{-\\Delta/{\\tilde \\Delta}}  \\right\\}\n",
    "\\end{eqnarray*}\n",
    "\n",
    "where the characteristic distance\n",
    "\n",
    "$$\n",
    "\\tilde \\Delta=\\sqrt{\\frac{\\sigma^2}{2\\,\\delta}}.\n",
    "$$\n",
    "\n",
    "(a) Amend the SFGK zero intelligence code from Problem 3 of HW1 to count the number of limit orders generated in addition to computing the average book shape.\n",
    "\n",
    "(b) With $\\alpha = 1$, $\\mu = 10$ and $\\delta = \\frac15$, simulate 100,000 events and plot the resulting average book shape in red (in a band $\\pm 20$ around the mid price).\n",
    "\n",
    "(c) From your simulation, what is the probability $P_L$ of a limit order at a given level conditional on an event? (Recall that there are 60 limit order levels in the simulation).\n",
    "\n",
    "(d) In [Gatheral and Oomen]<sup id=\"cite_ref-GO\" class=\"reference\"><a href=\"#cite_note-GO\"><span>[</span>1<span>]</span></a></sup>, with these SFGK parameters, realized variance per event was estimated as\n",
    "\n",
    "$$\n",
    "\\sigma^2_{GO} = 0.083.\n",
    "$$\n",
    "\n",
    "Using your estimate $P_L$ of limit orders per level per event, convert this estimate to variance per limit order (recall that $\\alpha=1$).  Denote your result by $\\sigma^2_{GO}$.  Compute the characteristic distance $\\tilde \\Delta_{GO}$ with this estimate $\\sigma^2_{GO}$.\n",
    "\n",
    "(e) In Lecture 1, using dimensional analysis, we estimated that variance $\\sigma^2_{DA}$ per unit time should be of the order of\n",
    "\n",
    "$$\n",
    "\\sigma^2_{DA} = \\frac{\\mu\\,\\delta}{\\alpha^2}.\n",
    "$$\n",
    "\n",
    "Compute the characteristic distance $\\tilde \\Delta_{DA}$ with this estimate $\\sigma^2_{DA}$.\n",
    "\n",
    "(f)  Using your two estimates of $\\tilde \\Delta$ from parts (d) and (e),  write functions to compute the corresponding order book densities $\\rho_{GO}(\\Delta)$ and $\\rho_{DA}(\\Delta)$.\n",
    "\n",
    "(g)\n",
    "Superimpose plots of the asymptotic densities $\\rho_{DA}(\\Delta)$ (in blue) and $\\rho_{DA}(\\Delta)$ (in orange) on your plot of the average book shape."
   ]
  },
  {
   "cell_type": "code",
   "execution_count": 6,
   "id": "dc8278e8",
   "metadata": {
    "collapsed": false
   },
   "outputs": [],
   "source": [
    "%%R\n",
    "\n",
    "#Generate an event and update the buy and sell books\n",
    "#Note that limit orders may be placed inside the spread\n",
    "generateEvent_cos <- function()\n",
    "    {\n",
    "    nb <<- sum(book$buySize[book$Price>=(bestOffer()-L)]); # Number of cancelable buy orders\n",
    "    ns <<- sum(book$sellSize[book$Price<=(bestBid()+L)]); # Number of cancelable sell orders\n",
    "    eventRate <- nb*delta + ns*delta + mu + 2*L*alpha;\n",
    "    probEvent <- c(L*alpha,L*alpha,nb*delta,ns*delta,mu/2,mu/2)/eventRate;\n",
    "    m <- sample(1:6, 1, replace = TRUE, probEvent); #Choose event type\n",
    "    switch(m,\n",
    "    \t\tlimitBuyOrder(),\n",
    "    \t\tlimitSellOrder(),\n",
    "    \t\tcancelBuyOrder(),\n",
    "    \t\tcancelSellOrder(),\n",
    "    \t\tmarketBuyOrder(),\n",
    "    \t\tmarketSellOrder()\n",
    "    \t\t);\n",
    "    return (m)\n",
    "    }"
   ]
  },
  {
   "cell_type": "code",
   "execution_count": 7,
   "id": "627fc929",
   "metadata": {
    "collapsed": false
   },
   "outputs": [
    {
     "data": {
      "image/png": "[encoded data removed]"
     },
     "metadata": {},
     "output_type": "display_data"
    }
   ],
   "source": [
    "%%R\n",
    "logging <- F # Very important for speed!\n",
    "\n",
    "alpha <- 1\n",
    "mu <- 10\n",
    "delta <- 1/5 \n",
    "initializeBook5()\n",
    "\n",
    "count_limit_order=0\n",
    "count_total=0\n",
    "numEvents <- 100000 # Average over 100,000 events\n",
    "avgBookShape_I <- bookShape(20)/numEvents\n",
    "for(count in 2:numEvents){\n",
    "  m=generateEvent_cos()\n",
    "    if (m==1) {count_limit_order=count_limit_order+1}\n",
    "    if (m==2) {count_limit_order=count_limit_order+1}\n",
    "    count_total=count_total+1\n",
    "  avgBookShape_I <- avgBookShape_I+bookShape(20)/numEvents\n",
    "\n",
    "}\n",
    "\n",
    "plot(-20:20,avgBookShape_I,main=\"avgBookShape_I\",xlab=\"Relative price\",ylab=\"# Shares\", col=\"red\", type=\"b\")\n"
   ]
  },
  {
   "cell_type": "code",
   "execution_count": 9,
   "id": "905209ca",
   "metadata": {
    "collapsed": false
   },
   "outputs": [
    {
     "data": {
      "text/plain": [
       "count_total:  99999count_limit_order:  49998PL:  0.008333083Variance:  0.08754367delta_go 0.4678239delta_DA:  0.4082483"
      ]
     },
     "metadata": {},
     "output_type": "display_data"
    },
    {
     "data": {
      "image/png": "[encoded data removed]"
     },
     "metadata": {},
     "output_type": "display_data"
    }
   ],
   "source": [
    "%%R\n",
    "cat(\"count_total: \", count_total)\n",
    "cat(\"count_limit_order: \", count_limit_order)\n",
    "\n",
    "PL=count_limit_order/60/count_total\n",
    "cat(\"PL: \", PL)\n",
    "\n",
    "i=-30\n",
    "Variance=0\n",
    "for (count in 1:61)\n",
    "{\n",
    "    Variance= Variance+PL*i*i\n",
    "    i=i+1\n",
    "}\n",
    "Variance=Variance/60/30\n",
    "cat(\"Variance: \", Variance)\n",
    "\n",
    "delta_go=sqrt(Variance/0.4)\n",
    "cat(\"delta_go\", delta_go)\n",
    "\n",
    "Variance_DA=10/5/30\n",
    "delta_DA=sqrt(Variance_DA/0.4)\n",
    "cat(\"delta_DA: \", delta_DA)\n",
    "\n",
    "rou_go <- function(delta)\n",
    "{\n",
    "    return (5*(exp(1-delta/delta_go)))\n",
    "}\n",
    "rou_DA <- function(delta)\n",
    "{\n",
    "    return (5*(exp(1-delta/delta_DA)))\n",
    "}\n",
    "\n",
    "delta=0\n",
    "y_go<-array(1:100)\n",
    "y_DA<-array(1:100)\n",
    "i=1\n",
    "for(count in 1:100){\n",
    "y_go[i]=rou_go(delta)\n",
    "y_DA[i]=rou_DA(delta)\n",
    "delta=delta+0.02\n",
    "i=i+1\n",
    "}\n",
    "x=0.02*(1:100)\n",
    "\n",
    "plot(x,y_go,main=\"Rou\",xlab=\"delta\",ylab=\"Rou\", col=\"blue\", type=\"b\")\n",
    "lines(x,y_DA,col=\"orange\")\n",
    "\n"
   ]
  },
  {
   "cell_type": "markdown",
   "id": "05552ca0",
   "metadata": {},
   "source": [
    "### 5. (6 points)\n",
    "\n",
    "Another of Mike and Farmer's observations is that the distribution of marketable as well as unmarketable limit orders as a function of distance $\\Delta$ to the same-side best quote is well-described by a Student-$t$ distribution.  Assume $\\mu=1/2$ as above.\n",
    "\n",
    "(a) Derive an expression in terms of the Student-$t$ cumulative density function for the ratio of arrival rates of limit to market orders as a function of the spread $s$.  How does this ratio vary with $s$?\n",
    "\n",
    "(b) Relative to the zero-intelligence model, does this empirically observed strategic behavior make the spread revert faster or more slowly?"
   ]
  },
  {
   "cell_type": "markdown",
   "id": "1199365a",
   "metadata": {},
   "source": [
    "### Solution:\n",
    "(a)\n",
    "$$f(x)=\\frac{\\Gamma(\\frac{\\nu+1}{2})}{\\sqrt{\\nu\\,\\pi}\\,\\Gamma(\\frac{\\nu}{2})}\\,\\frac{1}{\\left(1+\\frac{x^2}{\\nu}\\right)^{\\frac{\\nu+1}{2}}}\\sim \\frac{1}{s^{\\nu+1}}\\text{ as }$$\n",
    "which is a power function of s\n",
    "\n",
    "\n",
    "(b) In the ZI model, orders rates are constant. But here the orders rates are smaller as the spread goes up. So the revert will be faster."
   ]
  },
  {
   "cell_type": "markdown",
   "id": "6c83c1b6",
   "metadata": {},
   "source": [
    "### References\n",
    "\n",
    "<div class=\"reflist\" style=\"list-style-type: decimal;\">\n",
    "\n",
    "<ol>\n",
    "\n",
    "  <li id=\"cite_note-GO\"><span class=\"mw-cite-backlink\"><b><a href=\"#cite_ref-GO\">^</a></b></span> Jim Gatheral and Roel C. A Oomen, Zero-intelligence realized variance estimation, <span>*Finance and Stochastics*,</span> <span>**14**</span>(2) 249–283, 2010.</li>\n",
    "\n",
    "</ol>"
   ]
  }
 ],
 "metadata": {},
 "nbformat": 4,
 "nbformat_minor": 5
}
