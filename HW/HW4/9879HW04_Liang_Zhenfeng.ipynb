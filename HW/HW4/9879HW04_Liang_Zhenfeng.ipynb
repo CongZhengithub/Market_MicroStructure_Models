{
 "metadata": {
  "name": "",
  "signature": "sha256:6c749088d705afea551d660843d43712294b403eb88b554a30416fb4f6ab61c7"
 },
 "nbformat": 3,
 "nbformat_minor": 0,
 "worksheets": [
  {
   "cells": [
    {
     "cell_type": "markdown",
     "metadata": {},
     "source": [
      "#Zhenfeng Liang"
     ]
    },
    {
     "cell_type": "markdown",
     "metadata": {},
     "source": [
      "# MTH9879 Homework 4\n",
      "\n",
      "Assigned: February 24, 2015.\n",
      "Due: March 10, 2015 by 6pm. \n",
      "\n",
      "Late homework **will not be accepted**.\n",
      "\n",
      "$$\n",
      "\\newcommand{\\supp}{\\mathrm{supp}}\n",
      "\\newcommand{\\E}{\\mathbb{E}}\n",
      "\\newcommand{\\Eof}[1]{\\mathbb{E}\\left[ #1 \\right]}\n",
      "\\def\\Cov{{ \\mbox{Cov} }}\n",
      "\\def\\Var{{ \\mbox{Var} }}\n",
      "\\newcommand{\\1}{\\mathbf{1} }\n",
      "\\newcommand{\\PP}{\\mathbb{P} }\n",
      "%\\newcommand{\\Pr}{\\mathrm{Pr} }\n",
      "\\newcommand{\\QQ}{\\mathbb{Q} }\n",
      "\\newcommand{\\RR}{\\mathbb{R} }\n",
      "\\newcommand{\\DD}{\\mathbb{D} }\n",
      "\\newcommand{\\HH}{\\mathbb{H} }\n",
      "\\newcommand{\\spn}{\\mathrm{span} }\n",
      "\\newcommand{\\cov}{\\mathrm{cov} }\n",
      "\\newcommand{\\sgn}{\\mathrm{sgn} }\n",
      "\\newcommand{\\HS}{\\mathcal{L}_{\\mathrm{HS}} }\n",
      "%\\newcommand{\\HS}{\\mathrm{HS} }\n",
      "\\newcommand{\\trace}{\\mathrm{trace} }\n",
      "\\newcommand{\\LL}{\\mathcal{L} }\n",
      "%\\newcommand{\\LL}{\\mathrm{L} }\n",
      "\\newcommand{\\s}{\\mathcal{S} }\n",
      "\\newcommand{\\ee}{\\mathcal{E} }\n",
      "\\newcommand{\\ff}{\\mathcal{F} }\n",
      "\\newcommand{\\hh}{\\mathcal{H} }\n",
      "\\newcommand{\\bb}{\\mathcal{B} }\n",
      "\\newcommand{\\dd}{\\mathcal{D} }\n",
      "\\newcommand{\\g}{\\mathcal{G} }\n",
      "\\newcommand{\\p}{\\partial}\n",
      "\\newcommand{\\half}{\\frac{1}{2} }\n",
      "\\newcommand{\\T}{\\mathcal{T} }\n",
      "\\newcommand{\\bi}{\\begin{itemize}}\n",
      "\\newcommand{\\ei}{\\end{itemize}}\n",
      "\\newcommand{\\beq}{\\begin{equation}}\n",
      "\\newcommand{\\eeq}{\\end{equation}}\n",
      "\\newcommand{\\beas}{\\begin{eqnarray*}}\n",
      "\\newcommand{\\eeas}{\\end{eqnarray*}}\n",
      "\\newcommand{\\cO}{\\mathcal{O}}\n",
      "\\newcommand{\\cF}{\\mathcal{F}}\n",
      "\\newcommand{\\cL}{\\mathcal{L}}\n",
      "\\newcommand{\\BS}{\\text{BS}}\n",
      "$$\n",
      "\n",
      "$$\n",
      "\\newcommand{\\bea}{\\begin{eqnarray}}\n",
      "\\newcommand{\\eea}{\\end{eqnarray}}\n",
      "\\newcommand{\\supp}{\\mathrm{supp}}\n",
      "\\newcommand{\\F}{\\mathcal{F} }\n",
      "\\newcommand{\\cF}{\\mathcal{F} }\n",
      "\\newcommand{\\E}{\\mathbb{E} }\n",
      "\\newcommand{\\Eof}[1]{\\mathbb{E}\\left[ #1 \\right]}\n",
      "\\def\\Cov{{ \\mbox{Cov} }}\n",
      "\\def\\Var{{ \\mbox{Var} }}\n",
      "\\newcommand{\\1}{\\mathbf{1} }\n",
      "\\newcommand{\\p}{\\partial}\n",
      "\\newcommand{\\PP}{\\mathbb{P} }\n",
      "\\newcommand{\\Pof}[1]{\\mathbb{P}\\left[ #1 \\right]}\n",
      "\\newcommand{\\QQ}{\\mathbb{Q} }\n",
      "\\newcommand{\\R}{\\mathbb{R} }\n",
      "\\newcommand{\\DD}{\\mathbb{D} }\n",
      "\\newcommand{\\HH}{\\mathbb{H} }\n",
      "\\newcommand{\\spn}{\\mathrm{span} }\n",
      "\\newcommand{\\cov}{\\mathrm{cov} }\n",
      "\\newcommand{\\HS}{\\mathcal{L}_{\\mathrm{HS}} }\n",
      "\\newcommand{\\Hess}{\\mathrm{Hess} }\n",
      "\\newcommand{\\trace}{\\mathrm{trace} }\n",
      "\\newcommand{\\LL}{\\mathcal{L} }\n",
      "\\newcommand{\\s}{\\mathcal{S} }\n",
      "\\newcommand{\\ee}{\\mathcal{E} }\n",
      "\\newcommand{\\ff}{\\mathcal{F} }\n",
      "\\newcommand{\\hh}{\\mathcal{H} }\n",
      "\\newcommand{\\bb}{\\mathcal{B} }\n",
      "\\newcommand{\\dd}{\\mathcal{D} }\n",
      "\\newcommand{\\g}{\\mathcal{G} }\n",
      "\\newcommand{\\half}{\\frac{1}{2} }\n",
      "\\newcommand{\\T}{\\mathcal{T} }\n",
      "\\newcommand{\\bit}{\\begin{itemize}}\n",
      "\\newcommand{\\eit}{\\end{itemize}}\n",
      "\\newcommand{\\beq}{\\begin{equation}}\n",
      "\\newcommand{\\eeq}{\\end{equation}}\n",
      "\\newcommand{\\tr}{\\mbox{tr}}\n",
      "\\newcommand{\\underbar}{\\underline}\n",
      "$$"
     ]
    },
    {
     "cell_type": "markdown",
     "metadata": {},
     "source": [
      "<font color = \"red\">Homework is to be done by each student individually.  To receive full credit, you must email a completed copy of this iPython notebook to Yu Gan (yugan323@gmail.com), Fubo Shi (fubo.shi.baruch@gmail.com), and Tai-Ho Wang (tai-ho.wang@baruch.cuny.edu) by the due date and time.  All R-code must run correctly and solutions must be written up neatly in Markdown/LaTeX format.\n",
      "\n",
      "<font color=\"blue\">If you encounter problems with Markdown/LaTeX or iPython notebook, please contact your TAs Yu Gan and/or Fubo Shi.\n"
     ]
    },
    {
     "cell_type": "markdown",
     "metadata": {},
     "source": [
      "### 0. (0 points) \n",
      "Read Chapter 5 and 6 of Hasbrouck and Chapters 2 and 3 of Foucault, Pagano and R&ouml;ell. \n"
     ]
    },
    {
     "cell_type": "markdown",
     "metadata": {},
     "source": [
      "## Glosten and Milgrom"
     ]
    },
    {
     "cell_type": "markdown",
     "metadata": {},
     "source": [
      "### 1. (8 points) \n",
      "\n",
      "(Adapted from Hasbrouck 5.2 but please note that the setup in (3) in the slides is different from Hasbrouck's in Figure 5.1 of his book.) Consider a variant of the Glosten and Milgrom model where there is informed trading only in the low state $V=\\underline V$.\n",
      "\n",
      "(a) Show that the learned probability after one step that the true price is $\\bar V$ is given by\n",
      "\n",
      "$$\n",
      "\\delta_1(Buy)=\\Pr(\\bar V|Buy)=\\frac{\\delta}{1-\\mu\\,(1-\\delta)};\\quad \\delta_1(Sell)=\\Pr(\\bar V|Sell)=\\frac{\\delta}{1+\\mu\\,(1-\\delta)}\n",
      "$$\n",
      "\n",
      "and that\n",
      "\n",
      "$$\n",
      "A=\\frac{\\underline V\\,{(1-\\delta)\\,(1-\\mu)}+\\bar V\\,{\\delta}}{{1-\\mu\\,(1-\\delta)}};\\quad B=\\frac{\\underline V\\,{(1-\\delta)\\,(1+\\mu)}+\\bar V\\,{\\delta}}{1+\\mu\\,(1-\\delta)}\n",
      "$$\n",
      "\n",
      "(b) Deduce an expression for the spread $s=A-B$.\n",
      "\n",
      "(c) Explain the sensitivities of the spread to the parameters of the model to a non-expert.\n"
     ]
    },
    {
     "cell_type": "markdown",
     "metadata": {},
     "source": [
      "## Solution:\n",
      "\n",
      "### (a)\n",
      "For buy,\n",
      "\\begin{eqnarray*}\n",
      "\\Pr(\\bar V \\cap Buy) &=& 0.5 \\delta \\\\\n",
      "\\Pr(\\underbar V \\cap Buy) &=& 0.5(1 - \\delta)(1 - \\mu) \\\\\n",
      "\\end{eqnarray*}\n",
      "\n",
      "$$\n",
      "\\Pr(Buy) = \\Pr(\\bar V \\cap Buy) + \\Pr(\\underbar V \\cap Buy) = 0.5(1 - \\mu (1 - \\delta)) \n",
      "$$\n",
      "So,\n",
      "$$\n",
      "\\delta_1(Buy)=\\Pr(\\bar V|Buy)=\\frac{\\delta}{1-\\mu\\,(1-\\delta)}\n",
      "$$\n",
      "\n",
      "\\begin{eqnarray*}\n",
      "A&=&\\mathbb{E} [V|Buy]\\\\\n",
      "&=& {\\bar V\\,\\Pr(\\bar V|Buy)+\\underbar V\\,\\Pr(\\underbar V|Buy)}\\\\\n",
      "&=& \\frac{\\bar V\\,\\Pr(\\bar V \\cap Buy)+\\underbar V\\,\\Pr(\\underbar V \\cap Buy)}{\\Pr(Buy)} \\\\\n",
      "&=& \\frac{\\underline V\\,{(1-\\delta)\\,(1-\\mu)}+\\bar V\\,{\\delta}}{{1-\\mu\\,(1-\\delta)}}\n",
      "\\end{eqnarray*}\n",
      "\n",
      "For sell,\n",
      "\\begin{eqnarray*}\n",
      "\\Pr(\\bar V \\cap Sell) &=& 0.5 \\delta \\\\\n",
      "\\Pr(\\underbar V \\cap Sell) &=& 0.5(1 - \\delta)(1 + \\mu) \\\\\n",
      "\\end{eqnarray*}\n",
      "\n",
      "$$\n",
      "\\Pr(Sell) = \\Pr(\\bar V \\cap Sell) + \\Pr(\\underbar V \\cap Sell) = 0.5(1 + \\mu (1 - \\delta)) \n",
      "$$\n",
      "\n",
      "$$\n",
      "\\delta_1(Sell)=\\Pr(\\bar V|Sell)=\\frac{\\delta}{1+\\mu\\,(1-\\delta)}\n",
      "$$\n",
      "\n",
      "\\begin{eqnarray*}\n",
      "B&=&\\mathbb{E} [V|Sell]\\\\\n",
      "&=& {\\bar V\\,\\Pr(\\bar V|Sell)+\\underbar V\\,\\Pr(\\underbar V|Sell)}\\\\\n",
      "&=& \\frac{\\bar V\\,\\Pr(\\bar V \\cap Sell)+\\underbar V\\,\\Pr(\\underbar V \\cap Sell)}{\\Pr(Sell)} \\\\\n",
      "&=& \\frac{\\underline V\\,{(1-\\delta)\\,(1 + \\mu)}+\\bar V\\,{\\delta}}{{1 + \\mu\\,(1-\\delta)}}\n",
      "\\end{eqnarray*}"
     ]
    },
    {
     "cell_type": "markdown",
     "metadata": {},
     "source": [
      "### (b)\n",
      "With some calculation,\n",
      "$$\n",
      "s = A - B = \\frac{2 \\mu \\delta (1 - \\delta)(\\bar V - \\underbar V)}{1 - \\mu^2 (1 - \\delta)^2}\n",
      "$$"
     ]
    },
    {
     "cell_type": "markdown",
     "metadata": {},
     "source": [
      "### (c)\n",
      "When the $ \\bar V - \\underbar V$ goes up, the spread between two market states goes up, the market maker have to expand its bid-ask spread, otherwise, there would be arbitrage opportunity for traders.\n",
      "\n",
      "When $\\mu $ goes up, the percentage of the informed traders in the lower marktet state goes up, the market maker have to decrease its bid price to $\\underbar V$, otherwise, there would be arbitrage opportunity for traders.\n",
      "\n",
      "When $\\delta = 0.5$, we have the largest uncertanty of the market, and we have the largest spread."
     ]
    },
    {
     "cell_type": "markdown",
     "metadata": {},
     "source": [
      "### Set up R environment for the next questions"
     ]
    },
    {
     "cell_type": "code",
     "collapsed": false,
     "input": [
      "%load_ext rmagic"
     ],
     "language": "python",
     "metadata": {},
     "outputs": [],
     "prompt_number": 1
    },
    {
     "cell_type": "code",
     "collapsed": false,
     "input": [
      "%%R\n",
      "download.file(url=\"http://mfe.baruch.cuny.edu/wp-content/uploads/2015/02/tq.zip\", destfile=\"tq.zip\")\n",
      "unzip(zipfile=\"tq.zip\")"
     ],
     "language": "python",
     "metadata": {},
     "outputs": [
      {
       "metadata": {},
       "output_type": "display_data",
       "text": [
        "trying URL 'http://mfe.baruch.cuny.edu/wp-content/uploads/2015/02/tq.zip'\n",
        "Content type 'application/zip' length 695952 bytes (679 Kb)\n",
        "opened URL\n",
        "==================================================\n",
        "downloaded 679 Kb\n",
        "\n"
       ]
      }
     ],
     "prompt_number": 2
    },
    {
     "cell_type": "code",
     "collapsed": false,
     "input": [
      "%%R\n",
      "\n",
      "library(xts)\n",
      "library(highfrequency)\n",
      "library(quantmod)\n",
      "\n",
      "load(\"tq.rData\")\n",
      "tqdata <- tqBAC"
     ],
     "language": "python",
     "metadata": {},
     "outputs": [],
     "prompt_number": 4
    },
    {
     "cell_type": "markdown",
     "metadata": {},
     "source": [
      "## The Lee and Ready tick test"
     ]
    },
    {
     "cell_type": "markdown",
     "metadata": {},
     "source": [
      "### 2. (10 points) \n",
      "\n",
      "In the following use the trades and quotes object *tqBAC* in the loaded data *tq.rData*.  Denote trade prices by $p_t$ and mid-quotes by $m_t$.\n",
      "\n",
      "(a) Compute the time series of trade signs $\\epsilon_t$ according to $\\epsilon_t=+1$ if $p_t>m_t$ and  $\\epsilon_t=-1$ otherwise, using the Lee-Ready rule for trades at mid.  Name this series *tradeSigns*. (Note this was already done in the lecture.)\n",
      "\n",
      "(b) Compute the Lee-Ready trade-sign indicator time series (as if you didn't have quotes and so no mid-prices).\n",
      "\n",
      "(c) Compute the correlation of these two indicators.\n",
      "\n",
      "(d) Assume the rule in part (a) is 100% accurate.  What percentage of trades are correctly signed by the Lee-Ready test?\n",
      "\n",
      "(e) Explain the relationship between your answers in (c) and (d).\n"
     ]
    },
    {
     "cell_type": "markdown",
     "metadata": {},
     "source": [
      "## Solution"
     ]
    },
    {
     "cell_type": "code",
     "collapsed": false,
     "input": [
      "%%R\n",
      "\n",
      "# Functions for question 2\n",
      "\n",
      "LeeReadyTradeSign <- function(){ # Calculate the trade signs according to the Lee-Ready test\n",
      "    p <- as.numeric(tqdata$PRICE)\n",
      "    dp <- diff(p)\n",
      "\n",
      "    result <- rep(0, length(dp) + 1)\n",
      "    # The first deal is buy by default\n",
      "    result[1] = 1\n",
      "    for (i in 1 : length(dp)){\n",
      "        if(dp[i] > 0)\n",
      "            result[i + 1] <- 1\n",
      "        else if(dp[i] < 0)\n",
      "            result[i + 1] <- -1\n",
      "        else if (dp[i] == 0){\n",
      "            result[i + 1] <- result[i]\n",
      "        }\n",
      "    }  \n",
      "    return (result);\n",
      "}\n",
      "            \n",
      "accuratePercent <- function(normalTradeSigns, leeTradeSigns){ # Return the accurate percentage between two signs\n",
      "    count <- 0\n",
      "    len <- length(tradeSigns)\n",
      "    for(i in 1:len){\n",
      "        if(normalTradeSigns[i] == leeTradeSigns[i])\n",
      "            count = count + 1\n",
      "    }\n",
      "    return (count/len)\n",
      "}"
     ],
     "language": "python",
     "metadata": {},
     "outputs": [],
     "prompt_number": 5
    },
    {
     "cell_type": "code",
     "collapsed": false,
     "input": [
      "%%R\n",
      "\n",
      "# Part (a)\n",
      "# Compute trade signs\n",
      "tradeSigns <- getTradeDirection(tqdata) \n"
     ],
     "language": "python",
     "metadata": {},
     "outputs": [],
     "prompt_number": 6
    },
    {
     "cell_type": "code",
     "collapsed": false,
     "input": [
      "%%R\n",
      "\n",
      "# Part (b)\n",
      "leeTradeSigns <- LeeReadyTradeSign()"
     ],
     "language": "python",
     "metadata": {},
     "outputs": [],
     "prompt_number": 7
    },
    {
     "cell_type": "code",
     "collapsed": false,
     "input": [
      "%%R\n",
      "\n",
      "# Part (c)\n",
      "cor(tradeSigns, leeTradeSigns)"
     ],
     "language": "python",
     "metadata": {},
     "outputs": [
      {
       "metadata": {},
       "output_type": "display_data",
       "text": [
        "[1] 0.661735\n"
       ]
      }
     ],
     "prompt_number": 8
    },
    {
     "cell_type": "code",
     "collapsed": false,
     "input": [
      "%%R\n",
      "\n",
      "# Part (d)\n",
      "percent <- accuratePercent(tradeSigns, leeTradeSigns)\n",
      "percent"
     ],
     "language": "python",
     "metadata": {},
     "outputs": [
      {
       "metadata": {},
       "output_type": "display_data",
       "text": [
        "[1] 0.8296562\n"
       ]
      }
     ],
     "prompt_number": 9
    },
    {
     "cell_type": "markdown",
     "metadata": {},
     "source": [
      "### (e)\n",
      "The part (d) shows that there is high percentage, 82.97%, of trades are correctly signed by Lee-Ready test which is consistent with part (c), a high correlation."
     ]
    },
    {
     "cell_type": "markdown",
     "metadata": {},
     "source": [
      "## Realized spread by exchange"
     ]
    },
    {
     "cell_type": "markdown",
     "metadata": {},
     "source": [
      "### 3. (8 points)\n",
      "\n",
      "(a) Reproduce Figure 6 from the lecture slides, making sure to get the aesthetics right.\n",
      "\n",
      "(b) Explain why the realized spread profile varies by exchange.\n",
      "\n",
      "(c) Redo the picture adjusting for the following (assumed) take fees:\n",
      "\n",
      "** Exchange ** | ** Take fee ** \n",
      "--- | --- \n",
      "| (**cents**)\n",
      "D | 0.10 \n",
      "B | -0.04\n",
      "Z | 0.29\n",
      "Y | 0.00\n",
      "P | 0.25\n",
      "\n",
      "(d) Based on your results, where would you advise sending a small market order?  How about a large one?\n"
     ]
    },
    {
     "cell_type": "markdown",
     "metadata": {},
     "source": [
      "## Solution"
     ]
    },
    {
     "cell_type": "code",
     "collapsed": false,
     "input": [
      "%%R\n",
      "\n",
      "rs <- function(lag, ex){\n",
      "    temp <- tqdata[tqdata$EX == ex]\n",
      "    tradeSigns <- getTradeDirection(temp)\n",
      "    p <- as.numeric(temp$PRICE)\n",
      "    n <- length(p)\n",
      "    mids <- (as.numeric(temp$OFR) + as.numeric(temp$BID))/2\n",
      "    rs <- mean(tradeSigns[1:(n-lag)]*(p[1:(n-lag)]-mids[-(1:lag)]))\n",
      "    return (rs)\n",
      "}\n",
      "\n",
      "drawGraph <- function(lag){\n",
      "\n",
      "    rsLagD <- sapply(1:lag, ex = \"D\", rs)\n",
      "    rsLagD\n",
      "    plot(1:lag,rsLagD, col=\"red\",type=\"l\",xlab=expression(tau), ylab = \"Realized spread\", ylim = c(-0.002, 0.006))\n",
      "\n",
      "    rsLagB <- sapply(1:lag, ex = \"B\", rs)\n",
      "    lines(1:lag, rsLagB, col=\"blue\")\n",
      "\n",
      "    rsLagZ <- sapply(1:lag, ex = \"Z\", rs)\n",
      "    lines(1:lag, rsLagZ, col=\"yellow\")\n",
      "\n",
      "    rsLagY <- sapply(1:lag, ex = \"Y\", rs)\n",
      "    lines(1:lag, rsLagY, col=\"green\")\n",
      "\n",
      "    rsLagP <- sapply(1:lag, ex = \"P\", rs)\n",
      "    lines(1:lag, rsLagP, col=\"purple\")\n",
      "\n",
      "    legend(\"topright\", c(\"D...FINRA\", \"B...NASDAQ\", \"Z...BATS Exchange\", \"Y...BATS Y-Exchange\", \"P...NYSE\"), \n",
      "           lty = c(1,1,1,1,1), col=c(\"red\",\"blue\",\"yellow\",\"green\", \"purple\"))    \n",
      "}"
     ],
     "language": "python",
     "metadata": {},
     "outputs": [],
     "prompt_number": 10
    },
    {
     "cell_type": "code",
     "collapsed": false,
     "input": [
      "%%R\n",
      "\n",
      "# Part (a)\n",
      "lag <- 50\n",
      "drawGraph(lag)"
     ],
     "language": "python",
     "metadata": {},
     "outputs": [
      {
       "metadata": {},
       "output_type": "display_data",
       "png": "[encoded data removed]"
      }
     ],
     "prompt_number": 11
    },
    {
     "cell_type": "markdown",
     "metadata": {},
     "source": [
      "### (b)\n",
      "\n",
      "Because different exchanges have different processing costs, inventory costs and adverse selection."
     ]
    },
    {
     "cell_type": "code",
     "collapsed": false,
     "input": [
      "%%R\n",
      "\n",
      "# Part (C)\n",
      "rs <- function(lag, ex){\n",
      "    temp <- tqdata[tqdata$EX == ex]\n",
      "    tradeSigns <- getTradeDirection(temp)\n",
      "    p <- as.numeric(temp$PRICE)\n",
      "    n <- length(p)\n",
      "    mids <- (as.numeric(temp$OFR) + as.numeric(temp$BID))/2\n",
      "    rs <- mean(tradeSigns[1:(n-lag)]*(p[1:(n-lag)]-mids[-(1:lag)]))\n",
      "    \n",
      "    if(TRUE){\n",
      "        if(ex == \"D\")\n",
      "            rs <- rs + 0.001\n",
      "        else if(ex == \"B\")\n",
      "            rs <- rs - 0.0004\n",
      "        else if(ex == \"Z\")\n",
      "            rs <- rs + 0.0029\n",
      "        else if(ex == \"P\")\n",
      "            rs <- rs + 0.0025        \n",
      "    }\n",
      "\n",
      "    return (rs)\n",
      "}\n",
      "\n",
      "drawGraph <- function(lag){\n",
      "\n",
      "    rsLagD <- sapply(1:lag, ex = \"D\", rs)\n",
      "    rsLagD\n",
      "    plot(1:lag,rsLagD, col=\"red\",type=\"l\",xlab=expression(tau), ylab = \"Realized spread\", ylim = c(-0.002, 0.008))\n",
      "\n",
      "    rsLagB <- sapply(1:lag, ex = \"B\", rs)\n",
      "    lines(1:lag, rsLagB, col=\"blue\")\n",
      "\n",
      "    rsLagZ <- sapply(1:lag, ex = \"Z\", rs)\n",
      "    lines(1:lag, rsLagZ, col=\"yellow\")\n",
      "\n",
      "    rsLagY <- sapply(1:lag, ex = \"Y\", rs)\n",
      "    lines(1:lag, rsLagY, col=\"green\")\n",
      "\n",
      "    rsLagP <- sapply(1:lag, ex = \"P\", rs)\n",
      "    lines(1:lag, rsLagP, col=\"purple\")\n",
      "\n",
      "    legend(\"topright\", c(\"D...FINRA\", \"B...NASDAQ\", \"Z...BATS Exchange\", \"Y...BATS Y-Exchange\", \"P...NYSE\"), \n",
      "           lty = c(1,1,1,1,1), col=c(\"red\",\"blue\",\"yellow\",\"green\", \"purple\"))    \n",
      "}\n",
      "        \n",
      "lag <- 50\n",
      "drawGraph(lag)"
     ],
     "language": "python",
     "metadata": {},
     "outputs": [
      {
       "metadata": {},
       "output_type": "display_data",
       "png": "[encoded data removed]"
      }
     ],
     "prompt_number": 12
    },
    {
     "cell_type": "markdown",
     "metadata": {},
     "source": [
      "### (d)\n",
      "\n",
      "For the small amount market order, choose exchange B for negative fee. For a large amount of the market order, we need to split our order to place."
     ]
    },
    {
     "cell_type": "markdown",
     "metadata": {},
     "source": [
      "## Predicting trade signs"
     ]
    },
    {
     "cell_type": "markdown",
     "metadata": {},
     "source": [
      "### 4. (6 points) \n",
      "\n",
      "The following require the *tradeSigns* series from Problem 2.\n",
      "\n",
      "(a) Denote the probability of a sign reversal by $\\pi$.  Derive an expression in terms of $\\pi$ for the conditional expectation $\\E[\\epsilon_t|\\epsilon_{t-1}]$.\n",
      "\n",
      "(b) Assume zero expectation of the trading signs, fit an AR(1) model to the series *tradeSigns*.  What is the coefficient returned by this model?  Explain how  this coefficient relates to $\\pi$?\n"
     ]
    },
    {
     "cell_type": "markdown",
     "metadata": {},
     "source": [
      "##Solution"
     ]
    },
    {
     "cell_type": "markdown",
     "metadata": {},
     "source": [
      "### (a)\n",
      "\n",
      "From the definition of expection,\n",
      "$$\n",
      "\\E[\\epsilon_t|\\epsilon_{t-1}] = \\pi(- \\epsilon_{t-1}) + (1 - \\pi) \\epsilon_{t-1}\n",
      "$$\n",
      "\n",
      "So,\n",
      "$$\n",
      "\\pi = \\frac{\\epsilon_{t-1} - \\E[\\epsilon_t|\\epsilon_{t-1}]}{2 \\epsilon_{t-1}}\n",
      "$$\n",
      "\n",
      "\n"
     ]
    },
    {
     "cell_type": "markdown",
     "metadata": {},
     "source": [
      "## (b)\n",
      "AR(1) model\n",
      "$$\\epsilon_t=\\rho\\,\\epsilon_{t-1}+\\eta_t$$"
     ]
    },
    {
     "cell_type": "code",
     "collapsed": false,
     "input": [
      "%%R\n",
      "\n",
      "# part(b)\n",
      "eplison_t = tradeSigns[-1]\n",
      "eplison_t_minus_one = tradeSigns[-length(tradeSigns)]\n",
      "model1 <- lm(eplison_t ~ 0 + eplison_t_minus_one)\n",
      "rho <- coefficients(model1)\n",
      "cat(\"The rho we fit is\", rho)"
     ],
     "language": "python",
     "metadata": {},
     "outputs": [
      {
       "metadata": {},
       "output_type": "display_data",
       "text": [
        "The rho we fit is 0.08472868"
       ]
      }
     ],
     "prompt_number": 13
    },
    {
     "cell_type": "markdown",
     "metadata": {},
     "source": [
      "From the AR(1) model, because of independent noise. Then\n",
      "\n",
      "$ \\mathbb{E} [\\epsilon_t|\\epsilon_{t-1}]=\\rho\\,\\epsilon_{t-1}$.\n",
      "\n",
      "From part(a)\n",
      "\n",
      "$ \\mathbb{E} [\\epsilon_t|\\epsilon_{t-1}]= (1 - 2 \\pi) \\epsilon_{t-1}$.\n",
      "\n",
      "So, the relation between them obviously is, \n",
      "\n",
      "$ \\rho = 1 - 2 \\pi $"
     ]
    },
    {
     "cell_type": "markdown",
     "metadata": {},
     "source": [
      "## The MRR model"
     ]
    },
    {
     "cell_type": "markdown",
     "metadata": {},
     "source": [
      "### 5. (6 points)\n",
      "Using the estimate of $\\rho$ (the coefficient obtained from fitting to an AR(1) model) from Problem 4 and equation (11) from the lecture slides:\n",
      "\n",
      "$$\n",
      "\\Delta p_t=(\\phi+\\lambda)\\,\\epsilon_t-(\\phi+\\rho\\,\\lambda)\\,\\epsilon_{t-1}+e_t+\\Delta \\xi_t\n",
      "$$\n",
      "\n",
      "estimate by linear regression the MRR parameters $\\phi$ (transaction cost) and $\\lambda$ (adverse selection or \"Kyle lambda\") from  *tqBAC*.  This amounts to ignoring the autocorrelation of the $\\Delta \\xi_t$.\n",
      "<br>\n",
      "\n",
      "Hint: Use the R function *lm*  to perform the linear regressions."
     ]
    },
    {
     "cell_type": "markdown",
     "metadata": {},
     "source": [
      "## Solution"
     ]
    },
    {
     "cell_type": "code",
     "collapsed": false,
     "input": [
      "%%R\n",
      "\n",
      "p <- as.numeric(tqdata$PRICE)\n",
      "dp <- diff(p)\n",
      "\n",
      "model2 <- lm(dp ~ 0 + eplison_t + eplison_t_minus_one)\n",
      "coeffs <- coefficients(model2)\n",
      "cat(\"The first term coefficient is:\", coeffs[1])\n",
      "cat(\"\\nThe second term coefficient is:\", coeffs[2])"
     ],
     "language": "python",
     "metadata": {},
     "outputs": [
      {
       "metadata": {},
       "output_type": "display_data",
       "text": [
        "The first term coefficient is: 0.00287475\n",
        "The second term coefficient is: -0.002338937"
       ]
      }
     ],
     "prompt_number": 14
    },
    {
     "cell_type": "code",
     "collapsed": false,
     "input": [
      "%%R\n",
      "\n",
      "# Solve the system\n",
      "A <- matrix(data=c(1, 1, -1, -rho), nrow=2, ncol=2, byrow=TRUE)    \n",
      "b <- matrix(data=c(coeffs[1], coeffs[2]), nrow=2, ncol=1, byrow=FALSE)\n",
      "result <- solve(A, b)\n",
      "cat(\"phi is:\", result[1,1])\n",
      "cat(\"\\nlamda is:\", result[2,1])"
     ],
     "language": "python",
     "metadata": {},
     "outputs": [
      {
       "metadata": {},
       "output_type": "display_data",
       "text": [
        "phi is: 0.002289336\n",
        "lamda is: 0.0005854145"
       ]
      }
     ],
     "prompt_number": 15
    },
    {
     "cell_type": "code",
     "collapsed": false,
     "input": [],
     "language": "python",
     "metadata": {},
     "outputs": []
    }
   ],
   "metadata": {}
  }
 ]
}